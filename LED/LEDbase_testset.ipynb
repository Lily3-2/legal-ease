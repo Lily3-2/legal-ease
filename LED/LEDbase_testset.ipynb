{
  "cells": [
    {
      "cell_type": "code",
      "execution_count": 1,
      "metadata": {
        "id": "25DCPU17w5GR"
      },
      "outputs": [],
      "source": [
        "!pip install transformers datasets sentencepiece rouge -qq"
      ]
    },
    {
      "cell_type": "code",
      "execution_count": 2,
      "metadata": {
        "id": "7P9DI3qfw5Ds"
      },
      "outputs": [],
      "source": [
        "import torch\n",
        "import pandas as pd\n",
        "from rouge import Rouge\n",
        "from datasets import load_dataset\n",
        "from transformers import AutoModelForSeq2SeqLM, AutoTokenizer"
      ]
    },
    {
      "cell_type": "code",
      "execution_count": 3,
      "metadata": {
        "id": "m36WBiSew5Bc"
      },
      "outputs": [],
      "source": [
        "rouge = Rouge()\n",
        "dataset = load_dataset(\"C:/Personal One drive/OneDrive - vit.ac.in/8th semester (Winter)23_24/legal-ease/Code/LED-new/dataset\", split='test')"
      ]
    },
    {
      "cell_type": "code",
      "execution_count": 19,
      "metadata": {
        "id": "9vFWcPE2w4_Y"
      },
      "outputs": [],
      "source": [
        "CasesText = dataset['Case'][:25]\n",
        "GoldSummary = dataset['Summary'][:25]"
      ]
    },
    {
      "cell_type": "code",
      "execution_count": 20,
      "metadata": {
        "colab": {
          "base_uri": "https://localhost:8080/"
        },
        "id": "2wSLjatVw49k",
        "outputId": "24117373-c6e7-4fe2-b131-cb532e6f1345"
      },
      "outputs": [
        {
          "data": {
            "text/plain": [
              "(25, 25)"
            ]
          },
          "execution_count": 20,
          "metadata": {},
          "output_type": "execute_result"
        }
      ],
      "source": [
        "len(CasesText), len(GoldSummary)"
      ]
    },
    {
      "cell_type": "code",
      "execution_count": 21,
      "metadata": {
        "id": "p2p-CSZFw47G"
      },
      "outputs": [],
      "source": [
        "device = \"cuda\" if torch.cuda.is_available() else \"cpu\""
      ]
    },
    {
      "cell_type": "code",
      "execution_count": 22,
      "metadata": {
        "id": "QAlmz76hw447"
      },
      "outputs": [],
      "source": [
        "def summarize(model, tokenizer, Cases):\n",
        "\n",
        "  SystemSummaries = []\n",
        "  for i, case in enumerate(Cases):\n",
        "      \n",
        "      input_ids = tokenizer(case, return_tensors=\"pt\").input_ids.to(device)\n",
        "      global_attention_mask = torch.zeros_like(input_ids)\n",
        "      global_attention_mask[:, 0] = 1\n",
        "      sequences = model.generate(input_ids, global_attention_mask=global_attention_mask)\n",
        "      Summary = tokenizer.batch_decode(sequences, skip_special_tokens=True)\n",
        "\n",
        "      SystemSummaries.append(Summary)\n",
        "      print(i)\n",
        "\n",
        "  return SystemSummaries"
      ]
    },
    {
      "cell_type": "code",
      "execution_count": 23,
      "metadata": {
        "id": "BZWSz2J9w421"
      },
      "outputs": [],
      "source": [
        "checkpoint = \"checkpoint-10\"\n",
        "\n",
        "tokenizer_led = AutoTokenizer.from_pretrained(checkpoint)\n",
        "model_led = AutoModelForSeq2SeqLM.from_pretrained(checkpoint).to(device)"
      ]
    },
    {
      "cell_type": "code",
      "execution_count": 24,
      "metadata": {
        "id": "bpiZ8YBZw400"
      },
      "outputs": [
        {
          "name": "stdout",
          "output_type": "stream",
          "text": [
            "0\n",
            "1\n",
            "2\n",
            "3\n",
            "4\n",
            "5\n"
          ]
        },
        {
          "name": "stderr",
          "output_type": "stream",
          "text": [
            "Input ids are automatically padded from 1774 to 2048 to be a multiple of `config.attention_window`: 1024\n"
          ]
        },
        {
          "name": "stdout",
          "output_type": "stream",
          "text": [
            "6\n"
          ]
        },
        {
          "name": "stderr",
          "output_type": "stream",
          "text": [
            "Input ids are automatically padded from 2276 to 3072 to be a multiple of `config.attention_window`: 1024\n"
          ]
        },
        {
          "name": "stdout",
          "output_type": "stream",
          "text": [
            "7\n"
          ]
        },
        {
          "name": "stderr",
          "output_type": "stream",
          "text": [
            "Input ids are automatically padded from 2540 to 3072 to be a multiple of `config.attention_window`: 1024\n"
          ]
        },
        {
          "name": "stdout",
          "output_type": "stream",
          "text": [
            "8\n"
          ]
        },
        {
          "name": "stderr",
          "output_type": "stream",
          "text": [
            "Input ids are automatically padded from 1438 to 2048 to be a multiple of `config.attention_window`: 1024\n"
          ]
        },
        {
          "name": "stdout",
          "output_type": "stream",
          "text": [
            "9\n"
          ]
        },
        {
          "name": "stderr",
          "output_type": "stream",
          "text": [
            "Input ids are automatically padded from 2282 to 3072 to be a multiple of `config.attention_window`: 1024\n"
          ]
        },
        {
          "name": "stdout",
          "output_type": "stream",
          "text": [
            "10\n"
          ]
        },
        {
          "name": "stderr",
          "output_type": "stream",
          "text": [
            "Input ids are automatically padded from 4413 to 5120 to be a multiple of `config.attention_window`: 1024\n"
          ]
        },
        {
          "name": "stdout",
          "output_type": "stream",
          "text": [
            "11\n"
          ]
        },
        {
          "name": "stderr",
          "output_type": "stream",
          "text": [
            "Input ids are automatically padded from 2714 to 3072 to be a multiple of `config.attention_window`: 1024\n"
          ]
        },
        {
          "name": "stdout",
          "output_type": "stream",
          "text": [
            "12\n"
          ]
        },
        {
          "name": "stderr",
          "output_type": "stream",
          "text": [
            "Input ids are automatically padded from 553 to 1024 to be a multiple of `config.attention_window`: 1024\n"
          ]
        },
        {
          "name": "stdout",
          "output_type": "stream",
          "text": [
            "13\n"
          ]
        },
        {
          "name": "stderr",
          "output_type": "stream",
          "text": [
            "Input ids are automatically padded from 1197 to 2048 to be a multiple of `config.attention_window`: 1024\n"
          ]
        },
        {
          "name": "stdout",
          "output_type": "stream",
          "text": [
            "14\n"
          ]
        },
        {
          "name": "stderr",
          "output_type": "stream",
          "text": [
            "Input ids are automatically padded from 1246 to 2048 to be a multiple of `config.attention_window`: 1024\n"
          ]
        },
        {
          "name": "stdout",
          "output_type": "stream",
          "text": [
            "15\n"
          ]
        },
        {
          "name": "stderr",
          "output_type": "stream",
          "text": [
            "Input ids are automatically padded from 1363 to 2048 to be a multiple of `config.attention_window`: 1024\n"
          ]
        },
        {
          "name": "stdout",
          "output_type": "stream",
          "text": [
            "16\n",
            "17\n"
          ]
        },
        {
          "name": "stderr",
          "output_type": "stream",
          "text": [
            "Input ids are automatically padded from 5364 to 6144 to be a multiple of `config.attention_window`: 1024\n"
          ]
        },
        {
          "name": "stdout",
          "output_type": "stream",
          "text": [
            "18\n"
          ]
        },
        {
          "name": "stderr",
          "output_type": "stream",
          "text": [
            "Input ids are automatically padded from 6298 to 7168 to be a multiple of `config.attention_window`: 1024\n"
          ]
        },
        {
          "name": "stdout",
          "output_type": "stream",
          "text": [
            "19\n"
          ]
        },
        {
          "name": "stderr",
          "output_type": "stream",
          "text": [
            "Input ids are automatically padded from 8269 to 9216 to be a multiple of `config.attention_window`: 1024\n",
            "Input ids are automatically padded from 809 to 1024 to be a multiple of `config.attention_window`: 1024\n"
          ]
        },
        {
          "name": "stdout",
          "output_type": "stream",
          "text": [
            "20\n"
          ]
        },
        {
          "name": "stderr",
          "output_type": "stream",
          "text": [
            "Input ids are automatically padded from 3102 to 4096 to be a multiple of `config.attention_window`: 1024\n"
          ]
        },
        {
          "name": "stdout",
          "output_type": "stream",
          "text": [
            "21\n"
          ]
        },
        {
          "name": "stderr",
          "output_type": "stream",
          "text": [
            "Input ids are automatically padded from 2890 to 3072 to be a multiple of `config.attention_window`: 1024\n"
          ]
        },
        {
          "name": "stdout",
          "output_type": "stream",
          "text": [
            "22\n"
          ]
        },
        {
          "name": "stderr",
          "output_type": "stream",
          "text": [
            "Input ids are automatically padded from 1130 to 2048 to be a multiple of `config.attention_window`: 1024\n"
          ]
        },
        {
          "name": "stdout",
          "output_type": "stream",
          "text": [
            "23\n",
            "24\n"
          ]
        }
      ],
      "source": [
        "SystemSummary = summarize(model_led, tokenizer_led, CasesText)"
      ]
    },
    {
      "cell_type": "code",
      "execution_count": 52,
      "metadata": {},
      "outputs": [],
      "source": [
        "def compute_rouge_scores(system_summaries, gold_summaries):\n",
        "    # Join the lists of tokens into strings\n",
        "    system_summaries = [' '.join(summary) for summary in system_summaries]\n",
        "    gold_summaries = [' '.join(summary) for summary in gold_summaries]\n",
        "\n",
        "    scores = rouge.get_scores(system_summaries, gold_summaries, avg=True)\n",
        "    \n",
        "    rouge_scores = {\n",
        "        \"ROUGE-1\": {\n",
        "            \"Recall\": round(scores[\"rouge-1\"][\"r\"] * 100, 2),\n",
        "            \"Precision\": round(scores[\"rouge-1\"][\"p\"] * 100, 2),\n",
        "            \"F-Measure\": round(scores[\"rouge-1\"][\"f\"] * 100, 2),\n",
        "        },\n",
        "        \"ROUGE-2\": {\n",
        "            \"Recall\": round(scores[\"rouge-2\"][\"r\"] * 100, 2),\n",
        "            \"Precision\": round(scores[\"rouge-2\"][\"p\"] * 100, 2),\n",
        "            \"F-Measure\": round(scores[\"rouge-2\"][\"f\"] * 100, 2),\n",
        "        },\n",
        "        \"ROUGE-L\": {\n",
        "            \"Recall\": round(scores[\"rouge-l\"][\"r\"] * 100, 2),\n",
        "            \"Precision\": round(scores[\"rouge-l\"][\"p\"] * 100, 2),\n",
        "            \"F-Measure\": round(scores[\"rouge-l\"][\"f\"] * 100, 2),\n",
        "        },\n",
        "    }\n",
        "    \n",
        "    return pd.DataFrame(rouge_scores)\n"
      ]
    },
    {
      "cell_type": "code",
      "execution_count": 55,
      "metadata": {},
      "outputs": [
        {
          "name": "stdout",
          "output_type": "stream",
          "text": [
            "           ROUGE-1  ROUGE-2  ROUGE-L\n",
            "Recall        1.94     0.03     1.94\n",
            "Precision     2.91     0.18     2.91\n",
            "F-Measure     2.31     0.05     2.31\n"
          ]
        }
      ],
      "source": [
        "# Call the compute_rouge_scores function\n",
        "rouge_scores = compute_rouge_scores(SystemSummary, GoldSummary)\n",
        "\n",
        "# Print the rouge_scores DataFrame\n",
        "print(rouge_scores)"
      ]
    },
    {
      "cell_type": "code",
      "execution_count": 38,
      "metadata": {},
      "outputs": [],
      "source": [
        "# Combine gold and system summaries into a DataFrame\n",
        "Summaries = pd.DataFrame(list(zip(GoldSummary, SystemSummary)), columns=['GoldSummary', 'SystemSummary'])"
      ]
    },
    {
      "cell_type": "code",
      "execution_count": 39,
      "metadata": {
        "id": "rC0COHsCw4wI"
      },
      "outputs": [],
      "source": [
        "# Save the summaries to a CSV file\n",
        "dir_path = \"./Generated_Summaries\"\n",
        "Summaries.to_csv(dir_path + \"LEDSummaries.csv\", index=False)\n"
      ]
    },
    {
      "cell_type": "markdown",
      "metadata": {},
      "source": []
    },
    {
      "cell_type": "code",
      "execution_count": 65,
      "metadata": {},
      "outputs": [
        {
          "name": "stdout",
          "output_type": "stream",
          "text": [
            "==================================================\n",
            "Sample 1 Summary:\n",
            "['The judgment of the High Court of Madhya Pradesh in the case of the Electricity Dispute between the two parties was passed by a High Court in a judgment passed by the High court in a judgement passed in a matter between the parties. The judgment was passed in the judgment of a single bench of the Madhya High Court. The judgement was passed between the High Courts of the State and the State. The High Court held that the judgment passed in this case was passed under a single Bench of the']\n",
            "\n",
            "Gold Summary:\n",
            "Section 86(1)(f) vests a statutory jurisdiction with the State Electricity Commission to adjudicate upon disputes between licensees and generating companies and to refer any dispute for arbitration. therefore, the appointment of arbitrators by the commission overrides the appointment of arbitrators by the High Court. This judgment was passed in the case of Chief General Manager (IPC) M P Power Trading Co. Ltd. &amp; Anr. vs. Narmada Equipments Pvt. Ltd. [C.A.No.1051/2021] by a Bench consisting of Hon’ble Justice Dr. Dhananjaya Y Chandrachud, Hon’ble Justice M R Shah, and Hon’ble Justice Sanjiv Khanna. The present appeal arose from a judgment passed by the MP High Court where it appointed an Arbitrator in the dispute between the parties, in an application filed by the respondent under Section 11(6) of the Arbitration and Conciliation Act 1996. The MP Electricity Board entered into a Power Purchase Agreement (PPA) in 1999 with the respondent and the latter was to establish a mini hydroelectric project on a built and operate basis. However, the PPA was terminated in 2001 by the Board. The respondent initially filed a writ petition challenging the termination of the PPA, wherein the High Court, declined to entertain the petition in view of an arbitration agreement or clause in the PPA. the respondent filed a review petition which was also dismissed by the High Court. the respondent, therefore, issued a notice to the board seeking to resolve the dispute by mutual discussion. Since the respondent did not receive a reply to the notice in 2011, the respondent issued another notice to the Board. The respondent stated that if the Board did not act upon the notice within 30 days of its receipt, it would approach the High Court under Section 11(6) of the 1996 Act. having received no reply, the respondent approached the High Court. The appointed arbitrators refused to initiate the proceeding since their fees had not been paid. The respondents filed an AC under which the Single Judge held that remedies under Section 86(1)(f) of the 2003 Electricity Act and under Section 11(6) of the 1996 Act are independent of each other, and it was open to the High Court to exercise its jurisdiction under Section 11(6). Therefore the Appellant appealed before the Supreme Court. The Supreme Court observed that section 86(1)(f) of the 2003 Act, is a special provision that overrides the general provisions contained in Section 11 of the 1996 Act. Section 86(1)(f) vests a statutory jurisdiction with the State Electricity Commission to adjudicate upon disputes between licensees and generating companies and to refer any dispute for arbitration. Further Section 174 of the Electricity Act, provides an overriding effect to the 1996 Act notwithstanding anything inconsistent contained in any other law for the time being in force or in any instrument having effect by virtue of any law other than the 2003 Act itself. The Supreme Court further held that if there is an inherent lack of jurisdiction, the plea can be taken at any stage and also in collateral proceedings. The Court reiterated a well-established principle that a decree passed by a court without subject matter jurisdiction is a nullity, and that its invalidity could be set up whenever and wherever it is sought to be enforced or relied upon. Such a defect of jurisdiction cannot be cured even by the consent of the parties. Therefore the State Electricity Commission had jurisdiction to appoint the arbitrator since Section 86(1)(f) refers to disputes only between licensees and generating companies. Thus, the order of the High Court appointing an arbitrator under Section 11(6) of the 1996 Act is unsustainable. Accordingly, the appeal was allowed and the order of the High Court was set aside.\n",
            "==================================================\n",
            "==================================================\n",
            "Sample 2 Summary:\n",
            "['The petitioners were accused of assaulting the informant. The petitioners are accused of assault on the informant and the informant is accused of killing the mother of the informant, the informant’s sister, and the mother”s sister”. The case was framed under Section 147 148 341 323 504 353 332 of the Indian Penal Code. The accused were accused in the case and the accused were acquitted. It was submitted that the informant was killed by the accused and the investigation was carried out by the investigating officer. The investigation was conducted under Section 149 148 341 354 354 of the IPC and the case was concluded by the High Court']\n",
            "\n",
            "Gold Summary:\n",
            "The petitioner apprehended arrest under Section 147 IPC, “Punishment for rioting”, section 148, “Rioting, armed with a deadly weapon”, section 149, “Every member of unlawful assembly guilty of offense commit­ted in the prosecution of a common object”, section 341, “Punishment for wrongful restraint”, section 323, “Punishment for voluntarily causing hurt”, and sections 324, 448, 379, 302, 427, 354 of the Indian Penal Code. This is in connection with Muffasil PS Case No. 114 of 2021 dated 23.02.2021. This judgment was given in the high court of Judicature at Patna by honorable Mr. Justice Ahsanuddin Amanullah on the 6th  of August 2021 in the case of Munni Devi and others versus the state of Bihar criminal miscellaneous No.37739 of 2021, Mr. Ajay Kumar Represented as the advocate for the petitioner and Mr. Md. Arif represented the state of Bihar as the additional Public Prosecutor, Mr. Nasrul Huda was represented as the advocate for the informant the proceedings of the court were held via video conference. The following are the facts of the case, petitioner no.1 and 2 were accused of assaulting the mother of the informant using an iron rod and stick, and allegations of snatching gold jewelry was also made, petitioner no.3 was accused of assaulting the sister of the informant and all the petitioners along with the family members entered the house of the informant and looted Rs. 27,000 and petitioner no.4 had bitten the sister of the informant, the petitioners further damaged the motorcycle using an iron rod and stones and took three mobile phones from the house of the informant, the father of the informant was killed because of the assault committed by the petitioners. The counsel for the petitioner held that both the families were agnates. according to the FIR, no reason has been stated on why such an event took place, the accused has also filed a case against the informant Muffasil PS Case No. 115 of 2021 on the same day, as the informant along with his family teased and harassed one of the petitioners and when the family were involved and confronted the informant they were attacked, the deceased is the own uncle of the co-accused and the parties are neighbors. The allegations were falsely implicated because there was no injury report for the attack on the mother and regarding the sister, according to the injury report, only one lacerated wound above the left half upper lip 1” x 1/2” and no sign of bite was found by the doctor. All the petitioners are females and have no criminal antecedent they have been implicated with ulterior motive and the death of the father of the informant was caused by the co-accused and not the petitioners. The APP held that the petitioners were accused of assaulting the mother and biting the sister of the informant, counsel for the informant held that the father of the informant died due to the injuries resulting from the assault. However, it is not controverted that the assault on the deceased was done by the co-accused and not the petitioners and also there is no injury report for the attack on the mother of the informant. After considering the facts and circumstances of the case the Patna High Court held that “the allegations against the petitioners, who have been made accused along with their other male members, are not corroborated by the material brought before the police and as the petitioners are ladies without any criminal antecedent, the Court is inclined to allow their prayer for grant of pre-arrest bail.”\n",
            "==================================================\n",
            "==================================================\n",
            "Sample 3 Summary:\n",
            "['The petitioner is in custody for the purpose of marriage. The petitioner has been arrested for the offence of rape and murder. The petition was filed before the High Court of Jammu and Kashmir. The High Court held that the petitioner was arrested for raping a minor girl and that the girl was raped by a minor boy. It was submitted that the accused was not allowed to leave the girl’s house. The accused was arrested on the basis of the allegation of rape, murder, and murder of minor girl.']\n",
            "\n",
            "Gold Summary:\n",
            "The petitioner was arrested under Sections 344 IPC, “Wrongful confinement for ten or more days”, section 366, “Kidnapping, abducting or inducing woman to compel her mar­riage”, section 370(3), “Where the offence involves the trafficking of more than one person, it shall be punishable”, section120-B IPC, “Punishment of criminal conspiracy” and 3(a)(b)/4/5(a) of the Immoral Traffic (Prevention) Act, 1956. This petition is in connection with Dinara PS Case No. 9 of 2020 dated 03.01.2020. It is the second attempt for bail by the petitioner which was rejected by the judgment passed Criminal Misc. No. 20913 of 2020. In the high court of Judicature at Patna, this judgement was given by honourable Mr Justice Ahsanuddin Amanullah on the 25th of August 2021 in the case of Jabbar Miyan @ Jabbar Miya and others versus the state of Bihar, criminal miscellaneous No. 19491 of 2021. Mr Md. Mushtaque represented as the advocate for the petitioner, and Mr Ajay Kumar Jha represented the state of Bihar as the additional Public Prosecutor, the proceedings of the court were held via video conference. The following are the facts of the case, the petitioners were accused because he had kept the informant and two other girls in his house and did not allow them to go out. The petitioner runs a dance troupe and he attempted to commit immoral acts and human trafficking where he did not succeed and he had taken the informant’s signature on a blank paper after threatening them and told them the informant has been bought for Rs. 30,000. The counsel representing the petitioner held that according to the FIR the informant stated that she was held for 10 days and she was allowed to go out only by fulfilling the contract agreement which was dancing and singing at various functions and the counsel held that the FIR was filed few days after due to money dispute. The counsel provided a supplementary affidavit as evidence to prove the same. The counsel held that the allegations against the petitioners have been falsely implicated and the informant and other girls had taken the money in order to perform in the dance troupe however slater on the informants neither wanted to perform nor return the money and lodged this false case. The counsel submitted that according to the allegations there was no wrongful act and the girls were kept inside as they belonged from outside the state and they were taken care of properly and even after medical examination there was no wrong found out and the petitioner has been held in custody since the 4th of January 2020. Further, the counsel held that the entire family and their livelihood which they depend on has been damaged due to this false accusation and incarceration, therefore, the court is required to impose conditions to release the petitioner on bail. The additional public prosecutor held that the petitioners have been directly accused by the informants who are the girls that they were confined wrongfully and against their wish and did not allow them to leave and the petitioner also tried to commit human trafficking. The court held that after considering the facts and circumstances of the case the court held that taking into consideration that there is evidence to indicate that there was a professional relationship between the petitioner and the girls which may have gone sour and most importantly, actual physical abuse not being alleged and the allegation being only that the petitioner had tried to commit immoral act but could not succeed, the Court is inclined to grant bail to the petitioner. The court concluded that “the petitioner will be released on bail upon furnishing bail bonds of Rs. 25,000 with two sureties of the like amount each to the satisfaction of the learned SDJM, in PS Case No. 09 of 2020 subject to the conditions under section 438 (2) Cr.P.C. (i) that one of the bailors shall be a close relative of the petitioner, (ii) that the petitioner and the bailors shall execute bond with regard to the good behaviour of the petitioner, and (iii) that the petitioner shall also give an undertaking to the Court that he shall not indulge in any illegal/criminal activity, act in violation of any law/statutory provisions, tamper with the evidence or influence the witnesses. Any violation of the terms and conditions of the bonds or the undertaking shall lead to the cancellation of his bail bonds. The petition stands disposed of in the aforementioned terms.”\n",
            "==================================================\n"
          ]
        }
      ],
      "source": [
        "# Visualize 3 sample summaries\n",
        "sample_indices = [0, 1, 2]  # Choose 3 random sample indices\n",
        "for idx in sample_indices:\n",
        "    print(\"=\"*50)\n",
        "    print(f\"Sample {idx + 1} Summary:\")\n",
        "    print(SystemSummary[idx])\n",
        "    print(\"\\nGold Summary:\")\n",
        "    print(GoldSummary[idx])\n",
        "    print(\"=\"*50)"
      ]
    }
  ],
  "metadata": {
    "accelerator": "GPU",
    "colab": {
      "collapsed_sections": [],
      "name": "LEDbase-inference-ilc-testset",
      "provenance": []
    },
    "kernelspec": {
      "display_name": "Python 3",
      "name": "python3"
    },
    "language_info": {
      "codemirror_mode": {
        "name": "ipython",
        "version": 3
      },
      "file_extension": ".py",
      "mimetype": "text/x-python",
      "name": "python",
      "nbconvert_exporter": "python",
      "pygments_lexer": "ipython3",
      "version": "3.10.2"
    }
  },
  "nbformat": 4,
  "nbformat_minor": 0
}
