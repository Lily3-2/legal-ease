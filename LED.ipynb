{
  "nbformat": 4,
  "nbformat_minor": 0,
  "metadata": {
    "colab": {
      "provenance": []
    },
    "kernelspec": {
      "name": "python3",
      "display_name": "Python 3"
    },
    "language_info": {
      "name": "python"
    },
    "widgets": {
      "application/vnd.jupyter.widget-state+json": {
        "bcad6d12afbc4d23842a9363c188e83b": {
          "model_module": "@jupyter-widgets/controls",
          "model_name": "HBoxModel",
          "model_module_version": "1.5.0",
          "state": {
            "_dom_classes": [],
            "_model_module": "@jupyter-widgets/controls",
            "_model_module_version": "1.5.0",
            "_model_name": "HBoxModel",
            "_view_count": null,
            "_view_module": "@jupyter-widgets/controls",
            "_view_module_version": "1.5.0",
            "_view_name": "HBoxView",
            "box_style": "",
            "children": [
              "IPY_MODEL_3b13ab33f14b4dcca43114385a01eddd",
              "IPY_MODEL_5cc0fdbdf4e943498081d3a7c6c550b3",
              "IPY_MODEL_25e456b595fa456b8d3282e4f3666b73"
            ],
            "layout": "IPY_MODEL_33c3c71c91cd4d86909bb0f21743fd12"
          }
        },
        "3b13ab33f14b4dcca43114385a01eddd": {
          "model_module": "@jupyter-widgets/controls",
          "model_name": "HTMLModel",
          "model_module_version": "1.5.0",
          "state": {
            "_dom_classes": [],
            "_model_module": "@jupyter-widgets/controls",
            "_model_module_version": "1.5.0",
            "_model_name": "HTMLModel",
            "_view_count": null,
            "_view_module": "@jupyter-widgets/controls",
            "_view_module_version": "1.5.0",
            "_view_name": "HTMLView",
            "description": "",
            "description_tooltip": null,
            "layout": "IPY_MODEL_7cf455992ed748c399938507eb732bf2",
            "placeholder": "​",
            "style": "IPY_MODEL_b52664591f154096ae5cb5acb192a746",
            "value": "Map: 100%"
          }
        },
        "5cc0fdbdf4e943498081d3a7c6c550b3": {
          "model_module": "@jupyter-widgets/controls",
          "model_name": "FloatProgressModel",
          "model_module_version": "1.5.0",
          "state": {
            "_dom_classes": [],
            "_model_module": "@jupyter-widgets/controls",
            "_model_module_version": "1.5.0",
            "_model_name": "FloatProgressModel",
            "_view_count": null,
            "_view_module": "@jupyter-widgets/controls",
            "_view_module_version": "1.5.0",
            "_view_name": "ProgressView",
            "bar_style": "success",
            "description": "",
            "description_tooltip": null,
            "layout": "IPY_MODEL_aebac3a8a1614a32982b86eda727b365",
            "max": 500,
            "min": 0,
            "orientation": "horizontal",
            "style": "IPY_MODEL_68595516b10c45c6b75586f1766c60ff",
            "value": 500
          }
        },
        "25e456b595fa456b8d3282e4f3666b73": {
          "model_module": "@jupyter-widgets/controls",
          "model_name": "HTMLModel",
          "model_module_version": "1.5.0",
          "state": {
            "_dom_classes": [],
            "_model_module": "@jupyter-widgets/controls",
            "_model_module_version": "1.5.0",
            "_model_name": "HTMLModel",
            "_view_count": null,
            "_view_module": "@jupyter-widgets/controls",
            "_view_module_version": "1.5.0",
            "_view_name": "HTMLView",
            "description": "",
            "description_tooltip": null,
            "layout": "IPY_MODEL_fda3653cc4bc4b43b16fc708b14f97de",
            "placeholder": "​",
            "style": "IPY_MODEL_d14f375fb89741808a2e307d65c67b56",
            "value": " 500/500 [00:29&lt;00:00, 20.24 examples/s]"
          }
        },
        "33c3c71c91cd4d86909bb0f21743fd12": {
          "model_module": "@jupyter-widgets/base",
          "model_name": "LayoutModel",
          "model_module_version": "1.2.0",
          "state": {
            "_model_module": "@jupyter-widgets/base",
            "_model_module_version": "1.2.0",
            "_model_name": "LayoutModel",
            "_view_count": null,
            "_view_module": "@jupyter-widgets/base",
            "_view_module_version": "1.2.0",
            "_view_name": "LayoutView",
            "align_content": null,
            "align_items": null,
            "align_self": null,
            "border": null,
            "bottom": null,
            "display": null,
            "flex": null,
            "flex_flow": null,
            "grid_area": null,
            "grid_auto_columns": null,
            "grid_auto_flow": null,
            "grid_auto_rows": null,
            "grid_column": null,
            "grid_gap": null,
            "grid_row": null,
            "grid_template_areas": null,
            "grid_template_columns": null,
            "grid_template_rows": null,
            "height": null,
            "justify_content": null,
            "justify_items": null,
            "left": null,
            "margin": null,
            "max_height": null,
            "max_width": null,
            "min_height": null,
            "min_width": null,
            "object_fit": null,
            "object_position": null,
            "order": null,
            "overflow": null,
            "overflow_x": null,
            "overflow_y": null,
            "padding": null,
            "right": null,
            "top": null,
            "visibility": null,
            "width": null
          }
        },
        "7cf455992ed748c399938507eb732bf2": {
          "model_module": "@jupyter-widgets/base",
          "model_name": "LayoutModel",
          "model_module_version": "1.2.0",
          "state": {
            "_model_module": "@jupyter-widgets/base",
            "_model_module_version": "1.2.0",
            "_model_name": "LayoutModel",
            "_view_count": null,
            "_view_module": "@jupyter-widgets/base",
            "_view_module_version": "1.2.0",
            "_view_name": "LayoutView",
            "align_content": null,
            "align_items": null,
            "align_self": null,
            "border": null,
            "bottom": null,
            "display": null,
            "flex": null,
            "flex_flow": null,
            "grid_area": null,
            "grid_auto_columns": null,
            "grid_auto_flow": null,
            "grid_auto_rows": null,
            "grid_column": null,
            "grid_gap": null,
            "grid_row": null,
            "grid_template_areas": null,
            "grid_template_columns": null,
            "grid_template_rows": null,
            "height": null,
            "justify_content": null,
            "justify_items": null,
            "left": null,
            "margin": null,
            "max_height": null,
            "max_width": null,
            "min_height": null,
            "min_width": null,
            "object_fit": null,
            "object_position": null,
            "order": null,
            "overflow": null,
            "overflow_x": null,
            "overflow_y": null,
            "padding": null,
            "right": null,
            "top": null,
            "visibility": null,
            "width": null
          }
        },
        "b52664591f154096ae5cb5acb192a746": {
          "model_module": "@jupyter-widgets/controls",
          "model_name": "DescriptionStyleModel",
          "model_module_version": "1.5.0",
          "state": {
            "_model_module": "@jupyter-widgets/controls",
            "_model_module_version": "1.5.0",
            "_model_name": "DescriptionStyleModel",
            "_view_count": null,
            "_view_module": "@jupyter-widgets/base",
            "_view_module_version": "1.2.0",
            "_view_name": "StyleView",
            "description_width": ""
          }
        },
        "aebac3a8a1614a32982b86eda727b365": {
          "model_module": "@jupyter-widgets/base",
          "model_name": "LayoutModel",
          "model_module_version": "1.2.0",
          "state": {
            "_model_module": "@jupyter-widgets/base",
            "_model_module_version": "1.2.0",
            "_model_name": "LayoutModel",
            "_view_count": null,
            "_view_module": "@jupyter-widgets/base",
            "_view_module_version": "1.2.0",
            "_view_name": "LayoutView",
            "align_content": null,
            "align_items": null,
            "align_self": null,
            "border": null,
            "bottom": null,
            "display": null,
            "flex": null,
            "flex_flow": null,
            "grid_area": null,
            "grid_auto_columns": null,
            "grid_auto_flow": null,
            "grid_auto_rows": null,
            "grid_column": null,
            "grid_gap": null,
            "grid_row": null,
            "grid_template_areas": null,
            "grid_template_columns": null,
            "grid_template_rows": null,
            "height": null,
            "justify_content": null,
            "justify_items": null,
            "left": null,
            "margin": null,
            "max_height": null,
            "max_width": null,
            "min_height": null,
            "min_width": null,
            "object_fit": null,
            "object_position": null,
            "order": null,
            "overflow": null,
            "overflow_x": null,
            "overflow_y": null,
            "padding": null,
            "right": null,
            "top": null,
            "visibility": null,
            "width": null
          }
        },
        "68595516b10c45c6b75586f1766c60ff": {
          "model_module": "@jupyter-widgets/controls",
          "model_name": "ProgressStyleModel",
          "model_module_version": "1.5.0",
          "state": {
            "_model_module": "@jupyter-widgets/controls",
            "_model_module_version": "1.5.0",
            "_model_name": "ProgressStyleModel",
            "_view_count": null,
            "_view_module": "@jupyter-widgets/base",
            "_view_module_version": "1.2.0",
            "_view_name": "StyleView",
            "bar_color": null,
            "description_width": ""
          }
        },
        "fda3653cc4bc4b43b16fc708b14f97de": {
          "model_module": "@jupyter-widgets/base",
          "model_name": "LayoutModel",
          "model_module_version": "1.2.0",
          "state": {
            "_model_module": "@jupyter-widgets/base",
            "_model_module_version": "1.2.0",
            "_model_name": "LayoutModel",
            "_view_count": null,
            "_view_module": "@jupyter-widgets/base",
            "_view_module_version": "1.2.0",
            "_view_name": "LayoutView",
            "align_content": null,
            "align_items": null,
            "align_self": null,
            "border": null,
            "bottom": null,
            "display": null,
            "flex": null,
            "flex_flow": null,
            "grid_area": null,
            "grid_auto_columns": null,
            "grid_auto_flow": null,
            "grid_auto_rows": null,
            "grid_column": null,
            "grid_gap": null,
            "grid_row": null,
            "grid_template_areas": null,
            "grid_template_columns": null,
            "grid_template_rows": null,
            "height": null,
            "justify_content": null,
            "justify_items": null,
            "left": null,
            "margin": null,
            "max_height": null,
            "max_width": null,
            "min_height": null,
            "min_width": null,
            "object_fit": null,
            "object_position": null,
            "order": null,
            "overflow": null,
            "overflow_x": null,
            "overflow_y": null,
            "padding": null,
            "right": null,
            "top": null,
            "visibility": null,
            "width": null
          }
        },
        "d14f375fb89741808a2e307d65c67b56": {
          "model_module": "@jupyter-widgets/controls",
          "model_name": "DescriptionStyleModel",
          "model_module_version": "1.5.0",
          "state": {
            "_model_module": "@jupyter-widgets/controls",
            "_model_module_version": "1.5.0",
            "_model_name": "DescriptionStyleModel",
            "_view_count": null,
            "_view_module": "@jupyter-widgets/base",
            "_view_module_version": "1.2.0",
            "_view_name": "StyleView",
            "description_width": ""
          }
        },
        "dbd49c40c4874f2d8ecf3e4d2730dee3": {
          "model_module": "@jupyter-widgets/controls",
          "model_name": "HBoxModel",
          "model_module_version": "1.5.0",
          "state": {
            "_dom_classes": [],
            "_model_module": "@jupyter-widgets/controls",
            "_model_module_version": "1.5.0",
            "_model_name": "HBoxModel",
            "_view_count": null,
            "_view_module": "@jupyter-widgets/controls",
            "_view_module_version": "1.5.0",
            "_view_name": "HBoxView",
            "box_style": "",
            "children": [
              "IPY_MODEL_b5a072196096414ca9961b0ff8569da9",
              "IPY_MODEL_ad495b08b86f4f0aa065d6be6efc90c2",
              "IPY_MODEL_87f9195fce914ec7bc194bc59500eb22"
            ],
            "layout": "IPY_MODEL_5f699d5291834cda9c89bc76cde85631"
          }
        },
        "b5a072196096414ca9961b0ff8569da9": {
          "model_module": "@jupyter-widgets/controls",
          "model_name": "HTMLModel",
          "model_module_version": "1.5.0",
          "state": {
            "_dom_classes": [],
            "_model_module": "@jupyter-widgets/controls",
            "_model_module_version": "1.5.0",
            "_model_name": "HTMLModel",
            "_view_count": null,
            "_view_module": "@jupyter-widgets/controls",
            "_view_module_version": "1.5.0",
            "_view_name": "HTMLView",
            "description": "",
            "description_tooltip": null,
            "layout": "IPY_MODEL_165f437cd08a4f1eb45fc9422654d313",
            "placeholder": "​",
            "style": "IPY_MODEL_9aab05bc4181413b86ebd8738ef30ff5",
            "value": "Map: 100%"
          }
        },
        "ad495b08b86f4f0aa065d6be6efc90c2": {
          "model_module": "@jupyter-widgets/controls",
          "model_name": "FloatProgressModel",
          "model_module_version": "1.5.0",
          "state": {
            "_dom_classes": [],
            "_model_module": "@jupyter-widgets/controls",
            "_model_module_version": "1.5.0",
            "_model_name": "FloatProgressModel",
            "_view_count": null,
            "_view_module": "@jupyter-widgets/controls",
            "_view_module_version": "1.5.0",
            "_view_name": "ProgressView",
            "bar_style": "success",
            "description": "",
            "description_tooltip": null,
            "layout": "IPY_MODEL_3680acd37a5c4b0e8171c46bf2a3033f",
            "max": 80,
            "min": 0,
            "orientation": "horizontal",
            "style": "IPY_MODEL_f942b7dba1bb48c49d562f668a6f9f37",
            "value": 80
          }
        },
        "87f9195fce914ec7bc194bc59500eb22": {
          "model_module": "@jupyter-widgets/controls",
          "model_name": "HTMLModel",
          "model_module_version": "1.5.0",
          "state": {
            "_dom_classes": [],
            "_model_module": "@jupyter-widgets/controls",
            "_model_module_version": "1.5.0",
            "_model_name": "HTMLModel",
            "_view_count": null,
            "_view_module": "@jupyter-widgets/controls",
            "_view_module_version": "1.5.0",
            "_view_name": "HTMLView",
            "description": "",
            "description_tooltip": null,
            "layout": "IPY_MODEL_030333706467410ea48cbce77708c27f",
            "placeholder": "​",
            "style": "IPY_MODEL_1aa404633b874364a5236693ad2d17b4",
            "value": " 80/80 [00:03&lt;00:00, 36.11 examples/s]"
          }
        },
        "5f699d5291834cda9c89bc76cde85631": {
          "model_module": "@jupyter-widgets/base",
          "model_name": "LayoutModel",
          "model_module_version": "1.2.0",
          "state": {
            "_model_module": "@jupyter-widgets/base",
            "_model_module_version": "1.2.0",
            "_model_name": "LayoutModel",
            "_view_count": null,
            "_view_module": "@jupyter-widgets/base",
            "_view_module_version": "1.2.0",
            "_view_name": "LayoutView",
            "align_content": null,
            "align_items": null,
            "align_self": null,
            "border": null,
            "bottom": null,
            "display": null,
            "flex": null,
            "flex_flow": null,
            "grid_area": null,
            "grid_auto_columns": null,
            "grid_auto_flow": null,
            "grid_auto_rows": null,
            "grid_column": null,
            "grid_gap": null,
            "grid_row": null,
            "grid_template_areas": null,
            "grid_template_columns": null,
            "grid_template_rows": null,
            "height": null,
            "justify_content": null,
            "justify_items": null,
            "left": null,
            "margin": null,
            "max_height": null,
            "max_width": null,
            "min_height": null,
            "min_width": null,
            "object_fit": null,
            "object_position": null,
            "order": null,
            "overflow": null,
            "overflow_x": null,
            "overflow_y": null,
            "padding": null,
            "right": null,
            "top": null,
            "visibility": null,
            "width": null
          }
        },
        "165f437cd08a4f1eb45fc9422654d313": {
          "model_module": "@jupyter-widgets/base",
          "model_name": "LayoutModel",
          "model_module_version": "1.2.0",
          "state": {
            "_model_module": "@jupyter-widgets/base",
            "_model_module_version": "1.2.0",
            "_model_name": "LayoutModel",
            "_view_count": null,
            "_view_module": "@jupyter-widgets/base",
            "_view_module_version": "1.2.0",
            "_view_name": "LayoutView",
            "align_content": null,
            "align_items": null,
            "align_self": null,
            "border": null,
            "bottom": null,
            "display": null,
            "flex": null,
            "flex_flow": null,
            "grid_area": null,
            "grid_auto_columns": null,
            "grid_auto_flow": null,
            "grid_auto_rows": null,
            "grid_column": null,
            "grid_gap": null,
            "grid_row": null,
            "grid_template_areas": null,
            "grid_template_columns": null,
            "grid_template_rows": null,
            "height": null,
            "justify_content": null,
            "justify_items": null,
            "left": null,
            "margin": null,
            "max_height": null,
            "max_width": null,
            "min_height": null,
            "min_width": null,
            "object_fit": null,
            "object_position": null,
            "order": null,
            "overflow": null,
            "overflow_x": null,
            "overflow_y": null,
            "padding": null,
            "right": null,
            "top": null,
            "visibility": null,
            "width": null
          }
        },
        "9aab05bc4181413b86ebd8738ef30ff5": {
          "model_module": "@jupyter-widgets/controls",
          "model_name": "DescriptionStyleModel",
          "model_module_version": "1.5.0",
          "state": {
            "_model_module": "@jupyter-widgets/controls",
            "_model_module_version": "1.5.0",
            "_model_name": "DescriptionStyleModel",
            "_view_count": null,
            "_view_module": "@jupyter-widgets/base",
            "_view_module_version": "1.2.0",
            "_view_name": "StyleView",
            "description_width": ""
          }
        },
        "3680acd37a5c4b0e8171c46bf2a3033f": {
          "model_module": "@jupyter-widgets/base",
          "model_name": "LayoutModel",
          "model_module_version": "1.2.0",
          "state": {
            "_model_module": "@jupyter-widgets/base",
            "_model_module_version": "1.2.0",
            "_model_name": "LayoutModel",
            "_view_count": null,
            "_view_module": "@jupyter-widgets/base",
            "_view_module_version": "1.2.0",
            "_view_name": "LayoutView",
            "align_content": null,
            "align_items": null,
            "align_self": null,
            "border": null,
            "bottom": null,
            "display": null,
            "flex": null,
            "flex_flow": null,
            "grid_area": null,
            "grid_auto_columns": null,
            "grid_auto_flow": null,
            "grid_auto_rows": null,
            "grid_column": null,
            "grid_gap": null,
            "grid_row": null,
            "grid_template_areas": null,
            "grid_template_columns": null,
            "grid_template_rows": null,
            "height": null,
            "justify_content": null,
            "justify_items": null,
            "left": null,
            "margin": null,
            "max_height": null,
            "max_width": null,
            "min_height": null,
            "min_width": null,
            "object_fit": null,
            "object_position": null,
            "order": null,
            "overflow": null,
            "overflow_x": null,
            "overflow_y": null,
            "padding": null,
            "right": null,
            "top": null,
            "visibility": null,
            "width": null
          }
        },
        "f942b7dba1bb48c49d562f668a6f9f37": {
          "model_module": "@jupyter-widgets/controls",
          "model_name": "ProgressStyleModel",
          "model_module_version": "1.5.0",
          "state": {
            "_model_module": "@jupyter-widgets/controls",
            "_model_module_version": "1.5.0",
            "_model_name": "ProgressStyleModel",
            "_view_count": null,
            "_view_module": "@jupyter-widgets/base",
            "_view_module_version": "1.2.0",
            "_view_name": "StyleView",
            "bar_color": null,
            "description_width": ""
          }
        },
        "030333706467410ea48cbce77708c27f": {
          "model_module": "@jupyter-widgets/base",
          "model_name": "LayoutModel",
          "model_module_version": "1.2.0",
          "state": {
            "_model_module": "@jupyter-widgets/base",
            "_model_module_version": "1.2.0",
            "_model_name": "LayoutModel",
            "_view_count": null,
            "_view_module": "@jupyter-widgets/base",
            "_view_module_version": "1.2.0",
            "_view_name": "LayoutView",
            "align_content": null,
            "align_items": null,
            "align_self": null,
            "border": null,
            "bottom": null,
            "display": null,
            "flex": null,
            "flex_flow": null,
            "grid_area": null,
            "grid_auto_columns": null,
            "grid_auto_flow": null,
            "grid_auto_rows": null,
            "grid_column": null,
            "grid_gap": null,
            "grid_row": null,
            "grid_template_areas": null,
            "grid_template_columns": null,
            "grid_template_rows": null,
            "height": null,
            "justify_content": null,
            "justify_items": null,
            "left": null,
            "margin": null,
            "max_height": null,
            "max_width": null,
            "min_height": null,
            "min_width": null,
            "object_fit": null,
            "object_position": null,
            "order": null,
            "overflow": null,
            "overflow_x": null,
            "overflow_y": null,
            "padding": null,
            "right": null,
            "top": null,
            "visibility": null,
            "width": null
          }
        },
        "1aa404633b874364a5236693ad2d17b4": {
          "model_module": "@jupyter-widgets/controls",
          "model_name": "DescriptionStyleModel",
          "model_module_version": "1.5.0",
          "state": {
            "_model_module": "@jupyter-widgets/controls",
            "_model_module_version": "1.5.0",
            "_model_name": "DescriptionStyleModel",
            "_view_count": null,
            "_view_module": "@jupyter-widgets/base",
            "_view_module_version": "1.2.0",
            "_view_name": "StyleView",
            "description_width": ""
          }
        }
      }
    }
  },
  "cells": [
    {
      "cell_type": "code",
      "execution_count": 1,
      "metadata": {
        "colab": {
          "base_uri": "https://localhost:8080/"
        },
        "id": "7xbqdTaJEakP",
        "outputId": "40478ed5-e136-447f-f3dc-417ae41574f5"
      },
      "outputs": [
        {
          "output_type": "stream",
          "name": "stdout",
          "text": [
            "\u001b[33mWARNING: Ignoring invalid distribution -orch (/usr/local/lib/python3.10/dist-packages)\u001b[0m\u001b[33m\n",
            "\u001b[0m\u001b[33mWARNING: Ignoring invalid distribution -orch (/usr/local/lib/python3.10/dist-packages)\u001b[0m\u001b[33m\n",
            "\u001b[0m\u001b[33mWARNING: Ignoring invalid distribution -orch (/usr/local/lib/python3.10/dist-packages)\u001b[0m\u001b[33m\n",
            "\u001b[0m\u001b[33mWARNING: Ignoring invalid distribution -orch (/usr/local/lib/python3.10/dist-packages)\u001b[0m\u001b[33m\n",
            "\u001b[0m"
          ]
        }
      ],
      "source": [
        "!pip install -U torch datasets transformers sentencepiece rouge_score wandb -qq\n",
        "!pip install accelerate>=0.21.0 -U"
      ]
    },
    {
      "cell_type": "code",
      "source": [
        "import os\n",
        "import zipfile\n",
        "import numpy as np\n",
        "import wandb\n",
        "import pandas as pd\n",
        "from datasets import load_dataset, load_metric, Dataset\n",
        "from accelerate import Accelerator\n",
        "from transformers import AutoTokenizer\n",
        "from transformers import AutoModelForSeq2SeqLM\n",
        "from transformers import Seq2SeqTrainer, Seq2SeqTrainingArguments"
      ],
      "metadata": {
        "id": "RvDUE394EpFq"
      },
      "execution_count": 2,
      "outputs": []
    },
    {
      "cell_type": "code",
      "source": [
        "#unzip dataset\n",
        "\n",
        "# Specify the path to the zipped dataset\n",
        "zip_file_path = \"/content/IN-Abs.zip\"\n",
        "extraction_path = \"/content/\"\n",
        "\n",
        "# Open the zip file\n",
        "with zipfile.ZipFile(zip_file_path, \"r\") as zip_ref:\n",
        "    # Extract all files to the current directory\n",
        "    zip_ref.extractall(extraction_path)\n",
        "\n",
        "%ls -l"
      ],
      "metadata": {
        "colab": {
          "base_uri": "https://localhost:8080/"
        },
        "id": "Dj26ab-RExRZ",
        "outputId": "52a995e5-44b5-4af9-af1f-5da06670fbc6"
      },
      "execution_count": 3,
      "outputs": [
        {
          "output_type": "stream",
          "name": "stdout",
          "text": [
            "total 71104\n",
            "-rw-r--r-- 1 root root     4701 Mar 31 14:02 '=0.21.0'\n",
            "drwxr-xr-x 4 root root     4096 Mar 31 12:52  \u001b[0m\u001b[01;34mIN-Abs\u001b[0m/\n",
            "-rw-r--r-- 1 root root 72782902 Mar 31 12:48  IN-Abs.zip\n",
            "drwxr-xr-x 1 root root     4096 Mar 28 23:00  \u001b[01;34msample_data\u001b[0m/\n",
            "drwxr-xr-x 4 root root     4096 Mar 31 13:23  \u001b[01;34mwandb\u001b[0m/\n"
          ]
        }
      ]
    },
    {
      "cell_type": "code",
      "source": [
        "# Define the paths for train and test data\n",
        "train_data_path = \"/content/IN-Abs/train-data\"\n",
        "test_data_path = \"/content/IN-Abs/test-data\"\n",
        "\n",
        "# Function to read the contents of a file\n",
        "def read_file(file_path):\n",
        "    with open(file_path, 'r') as file:\n",
        "        content = file.read().strip()\n",
        "    return content\n",
        "\n",
        "# Load and explore the train dataset\n",
        "train_data = []\n",
        "\n",
        "for file_name in os.listdir(os.path.join(train_data_path, 'judgement')):\n",
        "    judgement_path = os.path.join(train_data_path, 'judgement', file_name)\n",
        "    summary_path = os.path.join(train_data_path, 'summary', file_name)\n",
        "\n",
        "    judgement = read_file(judgement_path)\n",
        "    summary = read_file(summary_path)\n",
        "\n",
        "    train_data.append({\n",
        "        'Judgement': judgement,\n",
        "        'Summary': summary\n",
        "    })\n",
        "\n",
        "train_df = pd.DataFrame(train_data)\n",
        "\n",
        "# Load and explore the test dataset\n",
        "test_data = []\n",
        "\n",
        "for file_name in os.listdir(os.path.join(test_data_path, 'judgement')):\n",
        "    judgement_path = os.path.join(test_data_path, 'judgement', file_name)\n",
        "    summary_path = os.path.join(test_data_path, 'summary', file_name)\n",
        "\n",
        "    judgement = read_file(judgement_path)\n",
        "    summary = read_file(summary_path)\n",
        "\n",
        "    test_data.append({\n",
        "        'Judgement': judgement,\n",
        "        'Summary': summary\n",
        "    })\n",
        "\n",
        "test_df = pd.DataFrame(test_data)\n",
        "\n",
        "# Read word and sentence count statistics for train and test\n",
        "train_stats_path = os.path.join(train_data_path, 'stats-IN-train.txt')\n",
        "test_stats_path = os.path.join(test_data_path, 'stats-IN-test.txt')\n",
        "\n",
        "train_stats = read_file(train_stats_path)\n",
        "test_stats = read_file(test_stats_path)\n",
        "\n",
        "# Display dataset statistics\n",
        "print(f\"Number of training documents: {len(train_df)}\")\n",
        "print(f\"Number of test documents: {len(test_df)}\")\n",
        "print(f\"Example Judgement:\\n{train_df['Judgement'][0][:500]}...\\n\")\n",
        "print(f\"Example Summary:\\n{train_df['Summary'][0][:200]}...\\n\")"
      ],
      "metadata": {
        "colab": {
          "base_uri": "https://localhost:8080/"
        },
        "id": "nJ--wx00ExUt",
        "outputId": "15cb92ee-fca2-4a13-e166-ec6acc3a3ef7"
      },
      "execution_count": 4,
      "outputs": [
        {
          "output_type": "stream",
          "name": "stdout",
          "text": [
            "Number of training documents: 7030\n",
            "Number of test documents: 100\n",
            "Example Judgement:\n",
            "(Civil) No. 1615 of 1986.\n",
            "(Under Article 32 of the Constitution of India).\n",
            "R.P. Gupta for the Petitioner.\n",
            "C.V. Subba Rao for the Respondents.\n",
            "1140 The Order of the Court was delivered by B.C. RAY, J.\n",
            "The petitioner who was appointed as a constable in the Haryana Police Force on November 7, 1979 has challenged in this writ petition the order dated August 24, 1982 issued by the Commandant, 2nd Bn.\n",
            "Haryana Armed Police, Madhuban on the ground that the impugned order of removal from service was in e...\n",
            "\n",
            "Example Summary:\n",
            "The petitioner, a Constable in the Haryana Police Serv ice, was removed from service during the period of proba tion.\n",
            "However, he was not given any opportunity of hearing against the purported order o...\n",
            "\n"
          ]
        }
      ]
    },
    {
      "cell_type": "code",
      "source": [
        "rouge = load_metric(\"rouge\")"
      ],
      "metadata": {
        "colab": {
          "base_uri": "https://localhost:8080/"
        },
        "id": "XJuSMzZ2K8qn",
        "outputId": "6ac34a83-8e9a-4e73-e402-f4a8b1772db1"
      },
      "execution_count": 5,
      "outputs": [
        {
          "output_type": "stream",
          "name": "stderr",
          "text": [
            "<ipython-input-5-6f1857dc142f>:1: FutureWarning: load_metric is deprecated and will be removed in the next major version of datasets. Use 'evaluate.load' instead, from the new library 🤗 Evaluate: https://huggingface.co/docs/evaluate\n",
            "  rouge = load_metric(\"rouge\")\n",
            "/usr/local/lib/python3.10/dist-packages/datasets/load.py:756: FutureWarning: The repository for rouge contains custom code which must be executed to correctly load the metric. You can inspect the repository content at https://raw.githubusercontent.com/huggingface/datasets/2.18.0/metrics/rouge/rouge.py\n",
            "You can avoid this message in future by passing the argument `trust_remote_code=True`.\n",
            "Passing `trust_remote_code=True` will be mandatory to load this metric from the next major release of `datasets`.\n",
            "  warnings.warn(\n"
          ]
        }
      ]
    },
    {
      "cell_type": "code",
      "source": [
        "# wandb.login()\n",
        "# wandb.init(project=\"led_legalease\", entity=\"capstone\")"
      ],
      "metadata": {
        "id": "Shsv67eqLBON"
      },
      "execution_count": 6,
      "outputs": []
    },
    {
      "cell_type": "code",
      "source": [
        "tokenizer = AutoTokenizer.from_pretrained(\"allenai/led-base-16384\")\n",
        "led = AutoModelForSeq2SeqLM.from_pretrained(\"allenai/led-base-16384\", gradient_checkpointing=True, use_cache=False)"
      ],
      "metadata": {
        "colab": {
          "base_uri": "https://localhost:8080/"
        },
        "id": "FLCFexDAL1Zm",
        "outputId": "ef99d99f-49a1-4a68-8cff-78741b56537c"
      },
      "execution_count": 7,
      "outputs": [
        {
          "output_type": "stream",
          "name": "stderr",
          "text": [
            "/usr/local/lib/python3.10/dist-packages/huggingface_hub/utils/_token.py:88: UserWarning: \n",
            "The secret `HF_TOKEN` does not exist in your Colab secrets.\n",
            "To authenticate with the Hugging Face Hub, create a token in your settings tab (https://huggingface.co/settings/tokens), set it as secret in your Google Colab and restart your session.\n",
            "You will be able to reuse this secret in all of your notebooks.\n",
            "Please note that authentication is recommended but still optional to access public models or datasets.\n",
            "  warnings.warn(\n"
          ]
        }
      ]
    },
    {
      "cell_type": "code",
      "source": [
        "max_input_length = 7120\n",
        "max_output_length = 600\n",
        "batch_size = 2"
      ],
      "metadata": {
        "id": "qVkWg-tjMIwm"
      },
      "execution_count": 8,
      "outputs": []
    },
    {
      "cell_type": "code",
      "source": [
        "def process_data_to_model_inputs(row):\n",
        "    inputs = tokenizer(\n",
        "        row[\"Judgement\"],\n",
        "        padding=\"max_length\",\n",
        "        truncation=True,\n",
        "        max_length=max_input_length,\n",
        "    )\n",
        "    outputs = tokenizer(\n",
        "        row[\"Summary\"],\n",
        "        padding=\"max_length\",\n",
        "        truncation=True,\n",
        "        max_length=max_output_length,\n",
        "    )\n",
        "\n",
        "    row[\"input_ids\"] = inputs[\"input_ids\"]\n",
        "    row[\"attention_mask\"] = inputs[\"attention_mask\"]\n",
        "\n",
        "    row[\"global_attention_mask\"] = [[1] * len(inputs[\"input_ids\"][0])] * len(inputs[\"input_ids\"])\n",
        "    row[\"global_attention_mask\"][0][0] = 1\n",
        "    row[\"labels\"] = outputs[\"input_ids\"]\n",
        "    row[\"labels\"] = [\n",
        "        [-100 if token == tokenizer.pad_token_id else token for token in labels]\n",
        "        for labels in row[\"labels\"]]\n",
        "\n",
        "    return row"
      ],
      "metadata": {
        "id": "njjTLaemUYe_"
      },
      "execution_count": 9,
      "outputs": []
    },
    {
      "cell_type": "code",
      "source": [
        "train_df.head()"
      ],
      "metadata": {
        "colab": {
          "base_uri": "https://localhost:8080/",
          "height": 293
        },
        "id": "9CVRQ68IbKYl",
        "outputId": "cdd6244b-877f-4cb4-b216-fef6bc4a5ef2"
      },
      "execution_count": 10,
      "outputs": [
        {
          "output_type": "execute_result",
          "data": {
            "text/plain": [
              "                                           Judgement  \\\n",
              "0  (Civil) No. 1615 of 1986.\\n(Under Article 32 o...   \n",
              "1  iminal Appeal Nos. 211 & 212 of 1969 and Revie...   \n",
              "2  Appeal No. 383 of 1961.\\nAppeal from the judgm...   \n",
              "3  Appeals Nos.\\n196 to 201 of 1953.\\nAppeals fro...   \n",
              "4  Civil Appeal No. 874 of 1971 On appeal by Spec...   \n",
              "\n",
              "                                             Summary  \n",
              "0  The petitioner, a Constable in the Haryana Pol...  \n",
              "1  An air parcel declared by the consigner to con...  \n",
              "2  The respondent imported 2,000 drums of mineral...  \n",
              "3  The appellant as the proprietor of Nada un Jag...  \n",
              "4  An order granting two stage carriage permits b...  "
            ],
            "text/html": [
              "\n",
              "  <div id=\"df-4ee37b88-25b8-491b-b757-5631aeba95ff\" class=\"colab-df-container\">\n",
              "    <div>\n",
              "<style scoped>\n",
              "    .dataframe tbody tr th:only-of-type {\n",
              "        vertical-align: middle;\n",
              "    }\n",
              "\n",
              "    .dataframe tbody tr th {\n",
              "        vertical-align: top;\n",
              "    }\n",
              "\n",
              "    .dataframe thead th {\n",
              "        text-align: right;\n",
              "    }\n",
              "</style>\n",
              "<table border=\"1\" class=\"dataframe\">\n",
              "  <thead>\n",
              "    <tr style=\"text-align: right;\">\n",
              "      <th></th>\n",
              "      <th>Judgement</th>\n",
              "      <th>Summary</th>\n",
              "    </tr>\n",
              "  </thead>\n",
              "  <tbody>\n",
              "    <tr>\n",
              "      <th>0</th>\n",
              "      <td>(Civil) No. 1615 of 1986.\\n(Under Article 32 o...</td>\n",
              "      <td>The petitioner, a Constable in the Haryana Pol...</td>\n",
              "    </tr>\n",
              "    <tr>\n",
              "      <th>1</th>\n",
              "      <td>iminal Appeal Nos. 211 &amp; 212 of 1969 and Revie...</td>\n",
              "      <td>An air parcel declared by the consigner to con...</td>\n",
              "    </tr>\n",
              "    <tr>\n",
              "      <th>2</th>\n",
              "      <td>Appeal No. 383 of 1961.\\nAppeal from the judgm...</td>\n",
              "      <td>The respondent imported 2,000 drums of mineral...</td>\n",
              "    </tr>\n",
              "    <tr>\n",
              "      <th>3</th>\n",
              "      <td>Appeals Nos.\\n196 to 201 of 1953.\\nAppeals fro...</td>\n",
              "      <td>The appellant as the proprietor of Nada un Jag...</td>\n",
              "    </tr>\n",
              "    <tr>\n",
              "      <th>4</th>\n",
              "      <td>Civil Appeal No. 874 of 1971 On appeal by Spec...</td>\n",
              "      <td>An order granting two stage carriage permits b...</td>\n",
              "    </tr>\n",
              "  </tbody>\n",
              "</table>\n",
              "</div>\n",
              "    <div class=\"colab-df-buttons\">\n",
              "\n",
              "  <div class=\"colab-df-container\">\n",
              "    <button class=\"colab-df-convert\" onclick=\"convertToInteractive('df-4ee37b88-25b8-491b-b757-5631aeba95ff')\"\n",
              "            title=\"Convert this dataframe to an interactive table.\"\n",
              "            style=\"display:none;\">\n",
              "\n",
              "  <svg xmlns=\"http://www.w3.org/2000/svg\" height=\"24px\" viewBox=\"0 -960 960 960\">\n",
              "    <path d=\"M120-120v-720h720v720H120Zm60-500h600v-160H180v160Zm220 220h160v-160H400v160Zm0 220h160v-160H400v160ZM180-400h160v-160H180v160Zm440 0h160v-160H620v160ZM180-180h160v-160H180v160Zm440 0h160v-160H620v160Z\"/>\n",
              "  </svg>\n",
              "    </button>\n",
              "\n",
              "  <style>\n",
              "    .colab-df-container {\n",
              "      display:flex;\n",
              "      gap: 12px;\n",
              "    }\n",
              "\n",
              "    .colab-df-convert {\n",
              "      background-color: #E8F0FE;\n",
              "      border: none;\n",
              "      border-radius: 50%;\n",
              "      cursor: pointer;\n",
              "      display: none;\n",
              "      fill: #1967D2;\n",
              "      height: 32px;\n",
              "      padding: 0 0 0 0;\n",
              "      width: 32px;\n",
              "    }\n",
              "\n",
              "    .colab-df-convert:hover {\n",
              "      background-color: #E2EBFA;\n",
              "      box-shadow: 0px 1px 2px rgba(60, 64, 67, 0.3), 0px 1px 3px 1px rgba(60, 64, 67, 0.15);\n",
              "      fill: #174EA6;\n",
              "    }\n",
              "\n",
              "    .colab-df-buttons div {\n",
              "      margin-bottom: 4px;\n",
              "    }\n",
              "\n",
              "    [theme=dark] .colab-df-convert {\n",
              "      background-color: #3B4455;\n",
              "      fill: #D2E3FC;\n",
              "    }\n",
              "\n",
              "    [theme=dark] .colab-df-convert:hover {\n",
              "      background-color: #434B5C;\n",
              "      box-shadow: 0px 1px 3px 1px rgba(0, 0, 0, 0.15);\n",
              "      filter: drop-shadow(0px 1px 2px rgba(0, 0, 0, 0.3));\n",
              "      fill: #FFFFFF;\n",
              "    }\n",
              "  </style>\n",
              "\n",
              "    <script>\n",
              "      const buttonEl =\n",
              "        document.querySelector('#df-4ee37b88-25b8-491b-b757-5631aeba95ff button.colab-df-convert');\n",
              "      buttonEl.style.display =\n",
              "        google.colab.kernel.accessAllowed ? 'block' : 'none';\n",
              "\n",
              "      async function convertToInteractive(key) {\n",
              "        const element = document.querySelector('#df-4ee37b88-25b8-491b-b757-5631aeba95ff');\n",
              "        const dataTable =\n",
              "          await google.colab.kernel.invokeFunction('convertToInteractive',\n",
              "                                                    [key], {});\n",
              "        if (!dataTable) return;\n",
              "\n",
              "        const docLinkHtml = 'Like what you see? Visit the ' +\n",
              "          '<a target=\"_blank\" href=https://colab.research.google.com/notebooks/data_table.ipynb>data table notebook</a>'\n",
              "          + ' to learn more about interactive tables.';\n",
              "        element.innerHTML = '';\n",
              "        dataTable['output_type'] = 'display_data';\n",
              "        await google.colab.output.renderOutput(dataTable, element);\n",
              "        const docLink = document.createElement('div');\n",
              "        docLink.innerHTML = docLinkHtml;\n",
              "        element.appendChild(docLink);\n",
              "      }\n",
              "    </script>\n",
              "  </div>\n",
              "\n",
              "\n",
              "<div id=\"df-93a999cd-1d8f-413e-adf2-5733d12b2bc4\">\n",
              "  <button class=\"colab-df-quickchart\" onclick=\"quickchart('df-93a999cd-1d8f-413e-adf2-5733d12b2bc4')\"\n",
              "            title=\"Suggest charts\"\n",
              "            style=\"display:none;\">\n",
              "\n",
              "<svg xmlns=\"http://www.w3.org/2000/svg\" height=\"24px\"viewBox=\"0 0 24 24\"\n",
              "     width=\"24px\">\n",
              "    <g>\n",
              "        <path d=\"M19 3H5c-1.1 0-2 .9-2 2v14c0 1.1.9 2 2 2h14c1.1 0 2-.9 2-2V5c0-1.1-.9-2-2-2zM9 17H7v-7h2v7zm4 0h-2V7h2v10zm4 0h-2v-4h2v4z\"/>\n",
              "    </g>\n",
              "</svg>\n",
              "  </button>\n",
              "\n",
              "<style>\n",
              "  .colab-df-quickchart {\n",
              "      --bg-color: #E8F0FE;\n",
              "      --fill-color: #1967D2;\n",
              "      --hover-bg-color: #E2EBFA;\n",
              "      --hover-fill-color: #174EA6;\n",
              "      --disabled-fill-color: #AAA;\n",
              "      --disabled-bg-color: #DDD;\n",
              "  }\n",
              "\n",
              "  [theme=dark] .colab-df-quickchart {\n",
              "      --bg-color: #3B4455;\n",
              "      --fill-color: #D2E3FC;\n",
              "      --hover-bg-color: #434B5C;\n",
              "      --hover-fill-color: #FFFFFF;\n",
              "      --disabled-bg-color: #3B4455;\n",
              "      --disabled-fill-color: #666;\n",
              "  }\n",
              "\n",
              "  .colab-df-quickchart {\n",
              "    background-color: var(--bg-color);\n",
              "    border: none;\n",
              "    border-radius: 50%;\n",
              "    cursor: pointer;\n",
              "    display: none;\n",
              "    fill: var(--fill-color);\n",
              "    height: 32px;\n",
              "    padding: 0;\n",
              "    width: 32px;\n",
              "  }\n",
              "\n",
              "  .colab-df-quickchart:hover {\n",
              "    background-color: var(--hover-bg-color);\n",
              "    box-shadow: 0 1px 2px rgba(60, 64, 67, 0.3), 0 1px 3px 1px rgba(60, 64, 67, 0.15);\n",
              "    fill: var(--button-hover-fill-color);\n",
              "  }\n",
              "\n",
              "  .colab-df-quickchart-complete:disabled,\n",
              "  .colab-df-quickchart-complete:disabled:hover {\n",
              "    background-color: var(--disabled-bg-color);\n",
              "    fill: var(--disabled-fill-color);\n",
              "    box-shadow: none;\n",
              "  }\n",
              "\n",
              "  .colab-df-spinner {\n",
              "    border: 2px solid var(--fill-color);\n",
              "    border-color: transparent;\n",
              "    border-bottom-color: var(--fill-color);\n",
              "    animation:\n",
              "      spin 1s steps(1) infinite;\n",
              "  }\n",
              "\n",
              "  @keyframes spin {\n",
              "    0% {\n",
              "      border-color: transparent;\n",
              "      border-bottom-color: var(--fill-color);\n",
              "      border-left-color: var(--fill-color);\n",
              "    }\n",
              "    20% {\n",
              "      border-color: transparent;\n",
              "      border-left-color: var(--fill-color);\n",
              "      border-top-color: var(--fill-color);\n",
              "    }\n",
              "    30% {\n",
              "      border-color: transparent;\n",
              "      border-left-color: var(--fill-color);\n",
              "      border-top-color: var(--fill-color);\n",
              "      border-right-color: var(--fill-color);\n",
              "    }\n",
              "    40% {\n",
              "      border-color: transparent;\n",
              "      border-right-color: var(--fill-color);\n",
              "      border-top-color: var(--fill-color);\n",
              "    }\n",
              "    60% {\n",
              "      border-color: transparent;\n",
              "      border-right-color: var(--fill-color);\n",
              "    }\n",
              "    80% {\n",
              "      border-color: transparent;\n",
              "      border-right-color: var(--fill-color);\n",
              "      border-bottom-color: var(--fill-color);\n",
              "    }\n",
              "    90% {\n",
              "      border-color: transparent;\n",
              "      border-bottom-color: var(--fill-color);\n",
              "    }\n",
              "  }\n",
              "</style>\n",
              "\n",
              "  <script>\n",
              "    async function quickchart(key) {\n",
              "      const quickchartButtonEl =\n",
              "        document.querySelector('#' + key + ' button');\n",
              "      quickchartButtonEl.disabled = true;  // To prevent multiple clicks.\n",
              "      quickchartButtonEl.classList.add('colab-df-spinner');\n",
              "      try {\n",
              "        const charts = await google.colab.kernel.invokeFunction(\n",
              "            'suggestCharts', [key], {});\n",
              "      } catch (error) {\n",
              "        console.error('Error during call to suggestCharts:', error);\n",
              "      }\n",
              "      quickchartButtonEl.classList.remove('colab-df-spinner');\n",
              "      quickchartButtonEl.classList.add('colab-df-quickchart-complete');\n",
              "    }\n",
              "    (() => {\n",
              "      let quickchartButtonEl =\n",
              "        document.querySelector('#df-93a999cd-1d8f-413e-adf2-5733d12b2bc4 button');\n",
              "      quickchartButtonEl.style.display =\n",
              "        google.colab.kernel.accessAllowed ? 'block' : 'none';\n",
              "    })();\n",
              "  </script>\n",
              "</div>\n",
              "\n",
              "    </div>\n",
              "  </div>\n"
            ],
            "application/vnd.google.colaboratory.intrinsic+json": {
              "type": "dataframe",
              "variable_name": "train_df",
              "summary": "{\n  \"name\": \"train_df\",\n  \"rows\": 7030,\n  \"fields\": [\n    {\n      \"column\": \"Judgement\",\n      \"properties\": {\n        \"dtype\": \"string\",\n        \"num_unique_values\": 7003,\n        \"samples\": [\n          \"Civil Appeal Nos. 1286, 1287 and 2511 of 1969 From the Judgment and Order dated 20 8 1968 and 3 4 1969 of the Punjab and Haryana High Court in Civil Writ Nos.800/66, 2625/65 and LPA No 141 of 1969.\\nHarbans Singh and R. N. Sachthey for the Appellant in all the appeals.\\nE. C. Agarwala and M. L. Srivastava for the Respondent in C.A. 1286/69.\\n406 H.K. Puri for the Respondent in C. A. 1287/69 N. N. Keswani for the Respondent in C.A. 2511/69 The Judgment of the Court was delivered by SHINGHAL, J.\\nThese three appeals by certificates granted by the High Court of Punjab and Haryana are directed against two judgments of that court dated August 20? 1966, and another judgment of that court dated November 22, 1968.\\nThe High Court first decided the writ petition of constable Dwarka Das, which is the subject matter of appeal No.1286 of 1969, and disposed of the other two writ petitions, which are the subject matter of appeals Nos. 1287 and 2511 of 1969, on the basis of that judgment.\\nThese three appeals therefore Raise common questions of law and have been heard together at the request of learned counsel for the parties and will be disposed of by a common judgment The writ petitioners in all the three cases were recruited as constables in the police force of the Punjab State.\\nIt is not in dispute before us that (i) they were police officers of the State, (ii) they were enrolled as police officers, (iii) they had put in more than three years service after their recruitment and enrolment as police officers, and (iv) they were discharged under the provisions of rule 12.21 of the Punjab Police Rules, 1934, (hereinafter referred to as the Rules and not by way of punishment under the provisions of Chapter XVI of the Rules.\\nNo attempt has been made to distinguish one case from the others on facts.\\nOn the other hand learned counsel for the parties are in agreement that the facts of the three cases are quite similar and they raise the common question of law whether the orders of discharge were valid.\\nThe respondents challenged the validity of those orders by writ petitions which were allowed by the impugned judgments of the High Court and the three appeals are before us for that reason.\\nIt has been argued by Mr Harbans Singh, on behalf of the appellant State, that even though the respondents had put in more than three years service as police officers of the State Government, their appointments were temporary and could be terminated for that reason even if the termination could not strictly be said to fall within the purview of rule 12.21 of the Rules.\\nthat in fact is the only question II for consideration in these appeals and can easily be answered with reference to the provisions of the , hereinafter refer red to as the Act, and the Rules.\\n407 Section 1 of the Act defines \\\"Police\\\" to include all persons who A shall be enrolled under it.\\nSection 2 provides that the entire police establishment under the State Government shall be deemed to be one police force, and shall be formally enrolled.\\nIt further provides that the conditions of service of the members of the subordinate ranks of the police force shall be such as may be determined by the State Government.\\nSection 8 is also relevant, for it expressly provides that every police officer appointed to the police force of the State (other than an officer mentioned in section 4), shall receive on his appointment a certificate in the form annexed to the Act, by virtue of which he shall be vested with the powers, functions and privileges of a police officer.\\nThe certificate states that the police officer concerned has been appointed a member of the police force under the Act, and vested with the powers.\\nfunctions and privileges of a police officer.\\nThe certificate is not therefore the order of appointment or enrolment, but is subsequent to the appointment and the enrolment, even though it is a part of the process of appointment and enrolment, in as much as it certifies that the police officer has been vested with the necessary powers, functions and privileges of a police officer.\\nThe certificate does not however have any bearing on the question whether its holder is a permanent or a temporary police officer, for that is a matter which has to be governed by the other conditions of his service.\\nIt is not in dispute before us that such certificates were issued to all the three respondents and that they functioned as police officers for more than three years.\\nChapter XII of the Rules deals with the appointment and enrolment of police officers.\\nClause (3) of rule 12.2.\\nprovides, inter alia, as follows, \\\"(3) All appointments of enrolled police officers are on probation according to the rules in this chapter applicable to each rank.\\n\\\" It is therefore obvious that as the respondents were enrolled police officers, they were on probation.\\nThe period of probation has not been specified in the Rules, but rule 12.21 provides for the discharge of an inefficient police officer as follows \\\"12.21.\\nA constable who is found unlikely to prove an efficient police officer may be discharged by the Superintendent at any time within three years of enrolment.\\nThere shall be no appeal against an order of discharge under this rule.\\n\\\" 408 So if rules 12.2(3) and 12.21 are read together, it will appear that the maximum period of probation in the case of 3 police officer of the rank of constable is three, years, for the Superintendent OF Police concerned has the power to discharge him within that period.\\nIt follows that the power of discharge cannot be exercised under rule 12.21 after the expiry of the period of three years.\\nIf therefore it is proposed to deal with an inefficient police officer after the expiry of that period, it is necessary to do so in accordance with the rules of Chapter XVI of the Rules which makes provision for the imposition of various punishments including dismissal from the police force.\\nIt is not permissible to ignore those rules and make a simple order of discharge under rule 12.21 after the expiry of the period of three years for that will attract article 311 of the Constitution.\\nThe Superintendent of Police concerned could not have ignored that requirement of the law and terminated the services of the three respondents after the expiry of the period of three years from their enrolment in the police force of the State.\\nThe High Court therefore rightly set aside the orders of termination of the services of the three respondents and to that extent the impugned judgments are correct.\\nBut we are constrained to say that it was not justified in holding that \\\"a constable who has obtained a certificate under rule 12.22 cannot be dealt with under rule 12.21\\\", and that \\\"if he is to be removed from service, procedure prescribed in Chapter XVI has to be followed.\\n\\\" The reason is that, as has been shown, the certificate prescribed under rule 12.22 is meant to serve the purpose of section 8 of the Act by vesting a police officer with the powers, functions and privileges of a police officer, and has to be issued on his appointment as such.\\nThe certificate is thus a letter of authority, and enables the police officer concerned to enter upon his duties as a police officer.\\nIt has to be granted almost from the inception, when a person is appointed and enrolled as police officer, and it is not correct to say that the mere issue of the certificate puts its holder beyond the reach of rule 12.21 even if it is found that he is unlikely to prove an efficient police officer and has not completed the period of three years after his enrolment.\\nExcept for this slight clarification, we find no merit in these appeals and they are dismissed with costs.\\nM.R. Appeals dismissed.\",\n          \"ivil Appeal No. 1072 of 1976.\\nFrom the Judgment and Order dated the 2.2.1973 of the Madhya Pradesh High Court in First Appeal No. 19 of 1966.\\nT.U. Mehta, S.N. Singh and T.N. Singh for the Appellants.\\nV.A. Bobde, Uday U. Lalit, S.K. Gambhir, A G. Rat naparkhi, Ms. Vandana Kakre and R.A. Roman for the Respond ents.\\nThe Judgment of the Court was delivered by K. RAMASWAMY, J.\\nThis appeal by special leave under article 136 of the Constitution of India arises against the decree and judgment dated February 2, 1978 in First Appeal No. 10 of 1966 of the M.P. High Court at Gwalior Bench.\\nKrishna Rao @ Lala Saheb, for short \\\"respondent\\\" laid the Civil Suit No. 9 A of 1962 before the Addl.\\nDistrict Judge, Gwalior for partition of the plaint schedule 1 to 3 properties in equal moiety and allotment of one such share to him.\\n648 Pending this appeal he died and his legal representatives are on record.\\nThe Trial Court by its judgment and decree dated January 31, 1966 granted preliminary decree for parti tion of half share in schedule 1 and 2 and half share in the movable property, namely compensation amount, jewellery and utensils as found in the inventory prepared by the Nazir except the stridhana property of 3rd defendant i.e. mother of appellants Nos. 1 and 2.\\nThe High Court while confirming the decree of the Trial Court directed the respondent to bring into hotch potch his jewellery and the appellants to have a half share therein and dismissed the appeal and the cross objections.\\nThe admitted facts are that one Ghanshyam Sadashiv Baxi Saheb, for short 'Ghanshyam 1 ' was the common ancestor.\\nHe had two sons by name Yesaji 1 and Phatoji.\\nYesaji 1 had a son by name Ramakrishna, whose son was Yesaji @ Baba Saheb for short Yesadji2.\\nYesaji 2 rendered meritorious military service to Ranaji Scindhia and in recognition thereof the Raja of Gwalior granted permanent Jagir of Chandurpura village under exhibit D 20, together with the buildings situated in 100 Bighas of land and the residential Bada with right of enjoyment and succession from generation to generation.\\nBy virtue thereof the ownership, possession and enjoyment was continued successively for seven generations upto Dwarkanath by rule of primogeniture.\\nGhanshyam @Tatya Saheb for short Ghanshyam 2 had two sons by name Dattatraya Rao @ Bapu Saheb for short Dattatraya 1 and the respondent.\\nDwarkanath was the son of Dattatraya 1.\\nThe appellant, Dattatraya @ Prakash and Pradip @ Anil, appellants Nos. 1 and 2 are sons of Dwarkanath Aruna Bai, third defendant is his widow.\\nGhansh yam 2 died on June 20, 1909.\\nDattatrya 1 died on February 6, 1926 and Dwarkanath died on May 19, 1956.\\nDwarkanath being minor on his succession to the estate the court of wards took over management and the respondent was appointed as a Superintendent.\\nOn death Of Dwarkanath since appellants 1 and 2 were minors Aruna Bai, their moth er, initially managed the estate with the assistance of the respondent.\\nSubsequently the respondent came into full control and management till date of suit.\\nThe respondent filed the suit for partition in the year 1962 pleading that all the plaint schedule 1 to 3 properties are coparcenary and he is entitled to a half share therein.\\nThe respondent received maintenance from Jagir income at the rate of Rs. 125 per month.\\nIn the written statement, the appellants, while admit ting the geneology, their residential house at Gwalior as ancestral; they dis 649 puted the nature of the properties as joint family, states of the respondent and the appellant as coparceners.\\nThey admitted that till death of Ghanshyam 2 in 1909 the family was joint and thereafter they were separated by mess and residence in the year 1929.\\nThe house M No. 626 Holka No. 101 at Gwalior was the residential old house but the Veran dah and two rooms on both sides were constructed by Datta traya 1.\\nThe shops in the back side of iron gate at Kampoo Road were not existing during life time of Ghanshyam 2, but the lands were purchased by Dattatraya 1 with the Jagir income and the shops and .the rooms were constructed with the Jagir income.\\nIt was also pleaded that four shops situ ated on eastern side of iron gate were constructed by the appellants ' mother from the compensation of the Jagir lands and the personal amount belonging to them.\\nJeherin Araji lands were purchased by Dattatraya 1 from his personal amounts.\\nThe rooms situated on eastern side of Shashikala Ranglekar was purchased and constructed during the minority of Dwarkanath from the income of the Jagir.\\nThe property adjacent to the gate on the north of the Bada namely two rooms, gate, the pucca house along with the well were con structed from the income of the Jagir by Dattatraya 1.\\nThe pator on the south side of the stair case was constructed by Dwarkanath from Jagir 's income, Pucca walls adjacent to the quarters and the southern side of the main residential Bada are estate properties and as per law and.\\ncustom of Gwalior State Dwarkanath became the owner of the property.\\nThe respondent has no right to a share but had only right to maintenance.\\nAfter the death of Ghanshyam 2 the respondent continued to receive maintenance from his brother Datta traya 1 who continued in possession and enjoyment of the Jagir as his personal property.\\nThe respondent had right to share only in the private property.\\nThe residential house except Verandah and two rooms shown as No. 1, 2 and 3 in the enclosed map belong to the family and those three items belong to Dattatraya 1.\\nAccordingly it is their plea that the Jagir being impartible estate is the separate and self acquired properties of Dattatraya 1 and Dwarkanath by rule of primogeniture and the concept of coparcenary and joint family status are inapplicable to it.\\nThe respondent has no share therein, but has only right to maintenance as a junior member of the family as per the law and custom of Gwalior State.\\nIt was further pleaded that the respondent and his wife were given jewellery at the time of their marriage.\\nThe jewellery found by Nazir belong to the family of the appel lants and some of them are stridhana of 3rd defendant.\\nThe respondent is not entitled to any share therein or in the utensils.\\nThe trial court found that till date of death of Ghanshyam 2 in 650 1909, he was Jagirdar.\\nDattatraya 1 and Dwarkanath succeeded as Jagirdars by rule of primogeniture.\\nAfter the abolition of the Jagir compensation was paid to Dwarkanath during his life time as the eldest member of the family, and the appel lant No. 1 also had been paid balance of the compensation.\\nIf a joint family possesses property which was admittedly joint the presumption would be that the property continued to be joint and the burden lies upon the member who claims and separate property to plead and prove it as separate or self acquired property.\\nThe respondent was living jointly with his brother Dattatraya 1.\\nNumber of sale deeds show the purchase made by Dattatraya 1. that old pators and two shops were remodelled by the court of wards.\\nThe purchase of the plots by Dattatraya 1 and constructions made thereon by him on the ancestral lands are the joint family properties.\\nThe Bada at Gwalior is the residential house and was not a part of the grant in exhibit D 20.\\nTherefore, the residential Bada on the Kampoo Road is an ancestral property of the family.\\nWhatever accretions were made therein must be deemed to be incorporated for the benefit of the family unless it is specifically shown that it was self acquired and separate property by Ghanshyam 2 or Dattatraya 1 or Dwarkanath.\\nAfter the abolition of the Jagir Dwarkanath received compensation.\\nThe four shops constructed also form joint family property.\\nThe properties given under exhibit D 20 in the village Chandupu ra are the Jagir properties.\\nThis is also ancestral and impartible property.\\nThere is no evidence to show that out of the Jagir income received, any property purchased or constructed were kept as separate properties.\\nTherefore, whatever accretions made by Dattatraya 1 for Dwarkanath or Aruna Bai are joint family properties.\\nIt was also found that the respondent did not make any contribution, nor improved the properties.\\nAs there is no evidence to show that Dattatraya 1 treated the income of the property as his separate income, the plaint schedule 1 properties are ances tral properties.\\nThe Jagir compensation received from time to time also form the joint family properties.\\nThe relations between the family was smooth and cordial till 1962.\\nThere was no partition earlier thereto.\\nMerely because succession to the Jagir was governed by the rule of primogeniture, it did not clothe the Jagir with the incidence of separate and self acquired property.\\nTherefore, they are joint family properties liable to partition.\\nThe jewellery except the stridhana of third defendant are joint family properties.\\nThe High Court substantially upheld the findings of the trial court.\\nIt held that rule of primogeniture and survi vorship was introduced by the Manual of Jagirdars of the Gwalior State (Qwaid Jagirdaran) in the year 1913 (Samwat 1970) and with the abolition of the Jagir in 1951 under the Madhya Bharat Aboli 651 tion of Jagir Act 28, 1951 (Samwat 2008) for short 'the Act ', ' the properties became the ancestral Hindu Joint Family properties and they are partible, irrespective of the fact in whose name it was entered either as Bhumidar in revenue papers or Jagirdar.\\nThe rooms constructed in the ancestral Bada are accretions to the ancestral house and became part and parcel of it.\\nThere is no evidence that the money spent for construction came from separate or own funds of the appellants.\\nAll the rooms became accretions to the ancestral property and became joint family property.\\nThe jewellery are joint family properties to the extent found by the Trial Court and are liable to partition.\\nThe compensa tion paid under the Act also belongs to the joint family property.\\nIt directed to bring into hotch potch the jewel lery of the respondent for partition in equal shares.\\nShri T.U. Mehta, learned senior counsel for the appel lants, contended that the courts below erred in holding that the properties are joint family properties, liable to parti tion.\\nSince it is a Jagir grant, as per the custom and law, the eldest male member succeeds by rule of primogeniture and survivorship.\\nTherefore, they are the separate properties of the eldest descendant, subject to right of maintenance by the junior members of the family.\\nDespite they being members of the undivided Hindu Joint Family, the concept of copar cenership cannot be applied to Jagir estate.\\nThe respondent having had the benefit of maintenance right through, is not entitled as coparcener to a partition of the plaint sched uled properties as the joint family properties.\\nThe jewel lery are the exclusive property of the appellants/defend ants Shri Bobde, learned senior counsel for the respondent argued that though the Jagir was granted tO the named indi vidual, the recitals therein unmistakably point to the fact that, it is to be enjoyed by the family from generation to generation.\\nIt would, therefore, be the coparcenary proper ty.\\nAppellants and the respondent being governed by the Mitakshara Law are entitled to equal moiety.\\nThe jewellery is the joint family property.\\nThere is no partition at any time.\\nIt was further contended that after the abolition of the Jagir under the act, Dwarkanath or appellants received compensation and the properties were acquired from the income of the compensation.\\nThe properties therefore, are impressed with joint family character and are partible.\\nThus the decree for partition is not illegal.\\nThe facts, as found or not disputed in the pleadings, are thus: Admittedly, Chandurpura village was granted as Jagir under Sanad (exhibit D 20) and thereafter the family lived in Gwalior for several gen 652 erations in the Bada.\\nCertain accretions or incorporations were made to the properties of the family from out of the income derived from the estate or compensation received under the Act.\\nDattatraya 1, Dwarakanath and 3rd defendant improved the properties.\\nThe respondent, right through, received maintenance from the estate and did not contribute anything for the improvement of the estate.\\nHe had his education from the maintenance granted from the estate and became a Judicial Officer.\\nAfter the abolition of the Jagir under the Act compensation received also was used to build shops.\\nThe Jagir remained indivisible and impartible and devolved successively for seven generations on the eldest male lineal descendant and it continued till Dwarkanath 's death in 1956.\\nThey are governed by Mitakshara Hindu Law and rule of primogeniture.\\nUnder the Act the Jagir lands were resumed and Jagir was abolished.\\nDuring the management of the estate by the Court of Wards, the respondent admittedly worked as Superintendent.\\nThe family remained undivided till date of suit.\\nThere is no evidence that any Jagirdar in particular, Dattatraya 1 or Dwarkanath treated the accre tions as separate or self acquired property.\\nFrom these facts the question emerges whether the plaint schedule properties are coparcenary.\\nIn our view, the Courts below fell in serious misconceptions of law.\\nQwaid Jagirda ran only recognised and reiterated the existing law or custom of impartibility and indivisibility of Jagir, etc.\\nand succession by rule of primogeniture.\\nHigh Court also committed error in holding that impartibility came to an end with the abolition of Jagir under the Act and that earlier thereto and subsequent to the Act the properties were copar cenary.\\nNeither court appreciated the correct legal posi tion.\\nIn Chapter 25 of Mayen 's Hindu Law, 12th Edition, at page 1065, paragraph 744 it is stated that liability to partition is an ordinary feature of joint family property, but it must not be supposed that joint property and partible property are mutually convertible terms.\\nIf it were so, an impartible estate could never be joint property.\\nThere are estates which by special law or custom descend to one member of the family, generally the eldest, to the exclusion of the other members and which are impartible, though they are joint property, in the eye of the law, belonging equally to the other members; and their rights are hedged in by a number of restrictions or limitations.\\nThe common instances of this class are the ancient zamindaries . or feudatory estates held on military service tenure such as . . royal grants . . services such as Jagirs . 653 In Baijnath Prasad Singh vs Tej Bali Singh, 48 Indian Appeals 195=AIR the Judicial Committee held that succession to impartible estate will be regulated according to the ordinary rule of Mitakshara Law.\\nand that the respondent being a person who in joint family would, being eldest of the senior branch, with head of the family, is the person designated in this impartible estate to occupy the gaddi.\\nAccordingly it was held that rule of primogeni ture would apply and not the ordinary rule of Mitakshara Law of survivorship that would be applicable to impartible estate.\\nIn Katama Natchiar vs Raja of Shivganga; [1863] 9 Moore Indian Appeals, 588 (P.C.) the Board held that the Zamindari is admitted to be in the nature of a principality .of im partible and capable of enjoyment by only one member of the family at a time and that therefore Mitakshara law of suc cession of the eldest male member would be applicable.\\nIn Sartai Kuari & Anr.\\nvs Deoraj Kuari, 15 Indian Appeals, 51 the Board held that there was no co parcenary in impartible estate.\\nPratap Chandra Deo vs Jagdish Chandra Deo, 54 Indian Appeals 289=AIR ruled that there is no co ownership in an impartible estate and that, therefore, no right of coparcenary.\\nsurvivorship would arise in an impart ible estate.\\nIn Anant Bhikkappa Patii vs Shankar Ramchandra Patii, AIR 1943 P.C. 196 at 201 it was held that: \\\"Now an impartible estate is not held in coparcenary, though it may be joint family property.\\nIt may devolve as joint family property as separate property of the last male owner.\\nIn the former case, it goes by survi vorship to that individual, among those male members who in fact and in law are undivided in respect of 'the 'estate, who is singled out by the special custom.\\ne.g., lineal male primogeniture.\\nIn the latter case, jointness and survivorship are not as such in point; the estate devolves by inheritance from the last male owner in the order prescribed by the special Custom or according to the ordinary law of inheritance as modified by the custom.\\n\\\" In Amrendra Man Singh vs Sanatan Singh, 60 Indian Appeals 242=AIR it was held that the zamindari proper ty belonged to the adopted son as to the last male owner.\\nThus it is settled law that succession to an impartible estate is 654 governed by rule of primogeniture and the eldest male member of the family would succeed by survivorship to the imparti ble estate.\\nIt is seen from the record and it is not contro verted even across the Bar that for seven successive genera tions, the Jagir estate descended on the eldest male member of the family by rule of primogeniture.\\nThe question then is whether the Jagir is partible as Hindu Joint Family property.\\nIn Shiba Prasad Singh vs Rani Prayag Kumari Debi & Ors., 59 Indian Appeals 351=AIR relied on by Sri Mehta, Sir Dinshan Mulla, speaking for the Board held that impartibility is essentially a creation of custom.\\nIn .the case of ordinary joint family property, the members of the family have (1) the right of partition, (2) the right to restrain alienations by the head of the family except for necessity, (3) the right of mainte nance, and (4) the right of survivorship.\\nThe first of these rights cannot exist in the case of an impartible estate though ancestral, from the very nature of the estate.\\nThe second and the third are incompatible with the custom of impartibility.\\nTo this extent the general law of Mitakshara has been superseded by custom and the impartible estate, though ancestral, is clothed with the incidents of self acquired and separate property.\\nBut the right of survivor ship is not inconsistent with the custom of impartibility.\\nThis right, therefore, sail retains its character of joint family property, and its devolution is governed by the general Mitakshara law applicable to such property.\\nThough the other rights which a co parecener acquires by birth in joint family property, no longer exist, the birth right of the senior member to take by survivorship still remains.\\n(emphasis supplied) Nor is this right a mere succession is similar to that of a reversioner succeeding on the death of a Hindu widow to her husband 's estate.\\nIt is a right which is capable of being renounced and surrendered.\\nTherefore, it follows that in order to establish that a family governed by the Mitakshara in which there is an ancestral impartible estate has ceased to be joint it is necessary to prove an intention, express or implied, on the part of the junior members of the family to renounce their right of succession to the estate.\\nIt is not sufficient to show a separation merely in food and worship.\\nIn Chinnathayi @ Veeralakshmi v, Kulasekara Pandiya Naicker & Anr.\\n1 this Court held that the right to bring about partition of an.\\nimpartible estate cannot be inferred from the power of alienation that the holder there of may possess.\\nIn the case of an impartible estate the power to divide it amongst the members does not exist, though the power in the holder to alienate it is there.\\nThis Court further held that: 655 \\\"To establish that an impartible estate has ceased to be joint family property for pur poses of succession it is necessary to prove an intention, express or implied, on the part of the junior members of the family to give up their chance of succeeding to the estate.\\nIn each case, it is incumbent on the.\\nplaintiff to adduce satisfactory grounds for holding that the joint ownership of the defendant 's branch in the estate was determined so that it became the separate property of the last holder 's branch.\\nThe test to be applied is whether the facts show a clear intention to renounce or surrender any interest in the impartible estate or a relinquishment of the right of succession and intention to impress upon the zamindari the character of separate property.\\\" In Shiba Prasad Singh 's case it was further held thus: \\\"surely then the property will pass not as his separat property, but by survivorship as joint property devolu tion by survivorship being another incident of an impartible estate.\\nThe .fact is that when self acquired property is incorporated with an ordinary joint family estate the pro perty so incorpo rated is impressed with all the incidents whic attach to an ordinary joint family estate and when self acquired property is incorporated with an ancestral impartible estate the property so incorporated is im presse with all the incidents which attach to an ancestral impart ble estate.\\nThe mere possi bility therefore of the holder alienating the property after incorporation is no reason for denying to him the power which the Hindu law gives him of changing the mode of descent to his property.\\nNor is there anything in that rule of law which is incon sistent with the custom of impartibility.\\\" Accordingly it must be held that the impartible estate though descends by rule of primogeniture and survivorship on the eldest male member of the family, it must also be proved that the junior members gave up expressly or by implication his right to a share therein.\\nThe further question is whether it is competent to the holders ofan ancestral impartible estate to incorporate with the estate other properties acquired or incorporated by him or them with the income ofthe impartible estate.\\nIn Smt.\\nRani Prabha Kumari Dibi vs Jagdish Chunder Dhabal, 29 Indian Appeals 82=ILR 29 Calcutta 433 (P.C.) 656 the question was regarding succession to an ancestral im partible estate and four Mauzas that has been purchased on behalf of the last holder out of the savings of the estate.\\nThe Board held that there must be evidence to establish the intention of the holder express Or implied to incorporate the property as part of the estate.\\nThough the collection of the rents was by the estate servant and the papers were kept in the estate, the Board held that the evidence was not sufficient to hold that the Raja intended to incorporate the four mauzas with ancestral estate for the purpose of his succession.\\nThe 4 Mauzas must, therefore, follow the rule of Mitakshara as to self acquired property.\\nIn Janki Pershad Singh vs Dwarka Pershad Singh, 40 Indian Appeals 170=ILR 35 Allahabad 391 P.C. the movable and immovable properties acquired from the income of the estate and were incorporated as part of the estate, yet the Board held that the question whether the properties acquired by an owner becomes part of the ancestral estate for the purpose of the succession would be considered from the intention of the holder of the es tate.\\nIt was held, on facts, that no sufficient evidence was adduced to establish such an intention.\\nIn Murtaza Husain Khan vs Mohd. Yasin Ali Khan, 43 Indian Appeals 269=AIR as regards immovable properties the same view.\\nwas reiterated.\\nIn Jagdamba Kumari vs Wazir Narain, 48 Indian Appeals 195=AIR the Board held that the income of ancestral impartible estate was the absolute properties of the owner of the estate and not an accretion to the estate as in the case of ordinary joint family estate.\\nWhile reversing the judgment of the High Court it held: \\\"It is possible that this confusion is due to the consideration of the position with regard to an ordinary joint family estate.\\nIn such a case the income, equally with the corpus, forms part of the family property, and if the owner mixes his own moneys with the moneys of the family as, for example, by putting the whole into one account at the bank, or by treating them in his accounts as indistin guishable his own earnings share with the property with which they are mingled the character of the joint family property; but no such considerations necessarily, apply to the income from impartible property.\\\" In Jagdamba Prasad 's case the Board held that the income received is the absolute property of the owner of the im partible estate and it does not attach to the estate as does the income of ordinary ancestral estate attaches to the estate.\\nWhile immovable property can be impressed with the impartible estate \\\"movable property cannot\\\".\\nIt 657 was further held that the income received is the absolute property of the owner of the estate it derives and in no way from the property he might have by his own saving.\\nIt is wrong assumption to make that the income of the property of that nature is so effected 'by the sources from which it came that still retains itself original character.\\nIn Commission er of Income tax, Madras vs Honble Sri Ravu Swetachalapati Ramakrishna Ranga Rao, Rajah of Babbili, the full Bench held that the income received by the holder of the impartible estate was not received as.\\na member of the Hindu Undivided Family.\\nThe income is.\\nhis and the junior members have no right therein.\\nIn Shiba Prasad 's case (1932), the Board held that it is possible to incorporate immovable property as a part of the estate, but movable properties are the separate properties and they cannot be incorporated and the doctrine of incorporation does not apply in the words thus: \\\"The rule of succession in such a case.is recognised by the State as part of the law of family, though it is no more than the result of a course of conduct of individual subjects of the State constituting the family.\\n\\\"Under the Hindu system of law, clear proof of usage.\\n\\\" even if it be a family usage \\\"will outweigh the written text of the law;\\\" In Commissioner of Income tax, Punjab vs Dewan Bahadur Dewan Krishna Kishore, Rais, Lahore, SirGeorge Rankin speaking, for the Board, held that when a family governed by the Mitakshara, by custom the rule of primogeniture controls the devolution of impartible proper ty, the custom of impartibility does not touch the succes sion since the right of survivorship is not inconsistent with the custom; hence the estate retains its character.\\nof joint family property and devolves by the general law upon the person who, being in fact and in law joint in respect of the estate, is also the senior member in the senior line.\\nHence a holder of the estate receiving income from house property cannot be said to be the owner of such property.\\nIt is the joint family that is the owner and, therefore, he cannot be assessed as an individual in respect of such income.\\nIn Mirza Raja Shri Pushavathi Viziaram Gajapathi Raj Manne Sultan Bahadur & Ors.\\nvs Shri Pushavathi Visweswar Gajapathi Raj & Ors ; it was held that immov able property subsequently acquired also would become im partible and ceases to be partible and becomes impartible but the theory of incorporation cannot apply to movable property.\\nIn ease there is a family custom even in respect of movable properties, as per the custom those movable pro 658 perties also become part of impartible estate.\\nIncorporation is a matter of intention.\\nIt is only where evidence has been adduced to show the intention of the acquirer to incorporate the property aCquired by him with the impartible estate of which he is the holder, then an inference can be drawn about such incorporation.\\nThe question, therefore, is one of intention of acquirer.\\nBy custom in the family the jewellery would be treated to form part of the regalia which belong to the holder of the estate and then would form part of impart ible estate.\\nIn that case as per custom in the family cer tain jewellery were treated as part of impartible estate and belonged to the estate.\\nThe income of an impartible estate thus is not income of the undivided family but is the income of the present holder, notwithstanding that he has sons or brothers from whom he is not divided.\\nThe fact that the son 's or brother 's right to maintenance arises out of the eldest brother 's possession of impartible estate and is .a right to .be maintained out of the estate, do not make it a right of a unique or even exceptional character or involve the conse quence at Hindu Law that the income of the estate is not the holder 's income.\\nIncome is not.\\njointly enjoyed by the party entitled to maintenance and the party chargeable nor can it be said that the respective chances of each son to succeed by survivorship make them all co owners of the income with their father or make the holder of the estate a manager on behalf of a Hindu family of which he and they are the male members of the family.\\nIt is equally well settled law that the holder of im partible estate can incorporate other properties belonging to him with that estate so as to make them also impartible and descendable to a single heir by survivorship.\\nIt is one of intentions to be proved as a fact whether the accretions are his separate properties or incorporated as part of impartible estate.\\nThe intention may be express or implied by conduct or treatment of the properties.\\nIn Muttu Baduga nadha Tevar vs Periasami @ Udayana Tevar, 23 Indian Appeals 128 (P.C,) the Privy Council held that the doctrine of representation between the father and his three lineal descendants has been on the assumption that he is reborn in them and the eldest to exclude his brother is continued to his lineal male heirs.\\nIn Ravi Janardhana Krishna Ranga Rao vs State of Madras, AIR 1953 Madras 185 relied on by Sri Mehta, it was held that in the case of an estate to which the incident of impartibility attaches.\\nby custom, custom supersedes the general Mithakshara law excepting in the matter of devolution of the property by right of survivor ship.\\nWhen an impartible estate was aCquired by the Govt.\\nunder the 659 .\\nMadras Estates (Abolition and ConVersion into Ryotwari) Act compensation received retains the incident of impartibility attached to the estate and the principle that conversion would not alter the nature ofthe estate is universal.\\nIn Thakore Shri Vinayasinghji vs Kumar Srinatwarsinghji & Ors.\\n,[1988] (Supp.) SCC 133 relied on by the appellants, this court held thatthere is no restraint on the power of alienation of the holder of theimpartible estate.\\nThere is a right of survivorship by birth to the seniormembers of the family, but in all other respects it is clothed with thein cidents of self acquired and separate property with the holder ofimpartible estate and unlimited right of acquisi tion not only by transferbut by will.\\nIn Sri Raja Rao Venka ta Mahipati Gangadara Rama RaoBahadur vs Raja of Pittapur, 47 Indian Appeals 354=AIR and in Maharajah of Jeypore & Anr.\\nvs VikramaDeo Garu, 52 Indian Cases 333=AIR the Board alsoheld that apart from custom and from near relationship to the holder,the junior members of the family have no right to maintenance out ofthe income of the impartible estate.\\nIt is also thus well settled law that the right of joint enjoyment which is ordinary incident to a coparcenary, where the joint estate is partible, is excluded by the rule of primogeniture and impartibility.\\nThe income of an impartible estate and the accumulation of such income are the absolute .property of the holder.\\nThe immovable properties would be incorporated with impartible estate.\\nIt must be proved that the holder had impressed the immovable proper ties as part of the estate.\\nBut the movable properties will not.\\nMovables are not an accretion to the estate as in the case of an ordinary joint family estate.\\nIt is seen that the grant of Chandurpur Jagir was in perpetuity and the enjoyment is from generation to genera tion Geneology abstracted hereinbefore establishes that devolution by survivorship to the eldest male member contin ued till time of Dwarakanath and the respondent received only maintenance from the Jagir estate.\\nWhat was implicit, was made explicit by Quaid Jagirdaran issued in Samwat 1970 by the Maharaja Scindhia of Gwalior State.\\nIn paragraph 2 thereof it has been stated that Jagir grant shall be indi visible and impartible property.\\nIn paragraph 2 of the preamble it is stated that the Jagir in its entirily would continue in the family in which they were conferred.\\nThus it is indivisible and impartible and succeeded by lineal eldest descendent of the family by rules of primogeniture.\\n660 Chandarpura Jagir was granted under exhibit D 20 with 100 Bighas of lands and the buildings situated therein, accre tions made in such estate out of its income are impartible estate governed by the rule of primogeniture and was suc ceeded by Dwarkanath as last eldest male descendant in the family.\\nTherefore, they were not the joint family properties but are separate properties of Dwarkanath and the respondent has no right to a share therein as a coparcener.\\nThe other lands acquired from the income thereof stand incorporated as part of the Jagir and are not partible.\\nSection 9 of the Act recognises the existing legal position and that the Junior member has only right to maintenance and directs payment thereof out of the compensation amount and creates a charge thereon.\\nTherefore, the properties enumerated in items 1 to 3 and 5 of schedule 2 are not partible.\\nThe preliminary decree in that regard is set aside.\\nThere appears to be dispute regarding item 4.\\nSo it is left out to be decided in separate proceedings.\\nBoth the courts found as a fact that the accretions were from out of the income of the Jagir.\\nSchedule 1 ances tral residential Bada and other properties situated at Gwalior are not covered by the sanad exhibit D 20.\\nAdmittedly, all the, members of the joint family lived therein.\\nThe prior partition in 1929 set up by the appellants was negated by the courts below.\\nThough Dattatraya 1 and Dwarkanath improved the properties from the income of Jagir estate as part of the joint estate, there is no evidence to establish that either Dattatraya 1 or Dwarkanath treated those proper ties as their separate or self acquired properties.\\nBoth the courts found as a fact that accretions formed part of.\\nthe joint.\\nfamily properties.\\nEqually there is no evidence that the respondent had given up his share therein either ex pressly or by implication by conduct.\\nHis assertion to be a coparcener and the properties to be coparcenary shows that he continued to claim to be a member of the joint family and admittedly the properties are joint.\\nThe accretions stood blended with ancestral joint family properties.\\nUnder section 3 of the Act what was resumed was only Jagir lands.\\nResumption means taking back what was given; what was re sumed are the lands and not the property of a person from whom it was taken by the rightful owner.\\nTherefore.\\nwhat was resumed is the right, title and interest in the Jagir lands covered by the provisions of the Act and compensation was paid in lieu thereof.\\nUnder section 5(b)(i) notwithstanding the vesting in the State under section 4 thereof all Open enclosures used for . . domestic purposes and in continuous possession for 12 years immediately before the date of the resumption; (II) all open house sites purchased for valuable consideration; (III) all private 661 buildings, places of worship, wells, etc.\\nsituated in . house sitespecified in clause (I) and (II); (IV) all groves wherever situated andlands appurtenant thereto shall continue to belong to and be held by the Jagirdar and be settled on him; (V) all 'tanks, trees, private wellsand buildings in the occupied lands shall continue to belong to or beheld by the family.\\nThus it is clear that all private properties including buildings in the jagir belong to or held by the Jagirdar remained to bethe property of the Jagirdar.\\nAll private properties in the Jagir otherthan impartible Jagir, therefore, rem 'ained to be joint family property.\\nWe, therefore, hold that schedule I properties are partible.\\nThe pre liminary decree for partition of them are Upheld. ' It is seen that 100 bighas of land in Chandurpura was granted as Jagir.\\nWhat had remained after the Act is hardly 5.41 bighas.\\nSo the rest of the lands, obviously, was re sumed by the Government, under the Act.\\nBy operation of section 18 of the Act it is Jagirdar who is entitled toreceive compensation money payable under the Act.\\nTherefore, themon ey received towards compensation of Jagir lands also retains thecharacter as impartible.\\nUnder the Act by operation of section 19 of the Act the Jagirdar is declared to be pucca tenant of Khudkhast lands of Dwarkanath.\\nFrom the impugned judgment it is clear that there are plethora of precedents of Madhya Pradesh High Court that after the abolition of the estates under the Act the lands became joint family properties which received approval from Anant Kibe & Ors.\\nPurushottam Rao & Ors., [1984] (Suppl.) SCC 175 relied on by Sri Bobde.\\nThere in this court held that the combined effect of sections 158(1)(b) and 164 of the M.P. Land Revenue Code was that the incident of impartibility and the special mode of Succession by the rule of primogeniture which were granted in terms of the grant of inam lands under the Jagir Manual stood extin guished.\\nBhumiswami right was conferred on the holder of the land i.e. Dwarkanath In Madhya Bharat Land Revenue and Tenancy Act, 1950 by operation of sections 54(7), 69 and 82 the lands become the pucca tenancy of Bhumiswami i.e. Dwarka nath.\\nTherefore, the devolution of the right of puccatenancy is by succession opened to the appellants Nos. 1 and 2.Accordingly we hold that Item 2, 3 and 5 of schedule 2 lands become the properties of the appellants.\\nCash grant of item 1 in schedule 3 of a sum of Rs.6895.00 is to the family the respondent had already received maintenance as a Junior member from the family and so he is not entitled again to a share therein.\\nThe decree is accordingly set aside.\\nRegarding item 2 by operation of section 18 of the Act the Jagirdar is entitled to it and that, 662 therefore, the respondent had no share 'therein.\\nThe jewel lery and utensils being movable properties are separate and personal propertiesbelonging to the appellants.\\nAdmittedly the respondent was, given jewellery at his marriage etc.\\nTherefore, the jewellery and utensils are not liable to partition.\\nThe decree for partition of them is set aside.\\nThe appeal is partly allowed.\\nThe judgment and decree of the trial court as confirmed by the High Court to the extent of all the items in schedule 1 for partition in two equal shares and allotment of one such share to the respondent is confirmed.\\nThe decree for partition of schedule 2 and 3 and of the jewellery and utensils is set aside.\\nThe appeal is allowed to the above extent, but parties are directed to bear their own costs.\\nY.L. Appeal patly allowed.\",\n          \"vil Appeal No. 840842 of 1989.\\nFrom the Judgment and Order dated 5.5.1988 of the Kerala High Court in M.F.A. Nos.\\n72/83,346/83 and 380 of 1983.\\nK.K. Venugopal, Shiv Pujan Singh and Miss Niranjana for the Appellant.\\nG. Vishwanath Iyer and K.R. Nambiar for the Respondents.\\nThe Judgment of the Court was delivered by SABYASACHI MUKHARJI, J.\\nLeave granted.\\nThese appeals arise from the judgment and order of the High Court of Kerala, dated 5th May, 1988.\\nThe High Court by the impugned judgment and order in M.F.A. Nos.\\n72,346 and 380 of 1983 allowed the appeals of the respondent the Govt.\\nof Kerala, against the judgment and decree dated 25th Sep tember, 1982 passed by the principal Sub Judge, Trivandrum in S.P. (Arbitration) Cases Nos. 184, 185 and 186 of 1982 by which the learned Sub Judge had upheld the awards by the arbitrator on the ground that it was not open to the court to sit in appeal over the decision of the arbitrator and the court could not adjudicate upon the justification for the conclusions arrived at by the arbitrator unless such awards were the result of corruption, fraud or when there were errors apparent on the face of the award.\\nThe learned Sub Judge further held that there was no error apparent on the face of the record and there was no allegation of corruption or fraud.\\nThe High Court reversed the said decision.\\n670 The questions involved in these appeals are: how should the court examine an award to find out whether it was a speaking award or not; and if it be a non speaking award, how and to what extent the court could go to determine whether there was any error apparent on the face of the award to be liable for interference by the court.\\nThe other question that arises in this case is, to what extent can the court examine the contract in question though not incorpo rated or referred to in the award.\\nIt may be noted that on 23rd December, 1976 the agree ment No. 25/SESPC/1976 77 was entered into between the appellant and the respondent herein for construction of masonary dam across Siruvani river.\\nCertain disputes arose between the appellant and the respondent.\\nThese disputes were referred to the arbitrator named in the agreement.\\nThe arbitrator passed the awards dated 12th, 16th and 23rd April, 1982, which were filed before the Sub Judge and the appellant prayed for passing of decree in terms of the awards.\\nThe respondents filed petitions seeking to set aside the awards.\\nThe learned Judge refused to set aside the awards and passed decrees in terms of the awards.\\nThe Trial Court held that there was no merit in the contention regard ing limitation; and that the claims under the award were not barred by limitation.\\nIt was further held by the learned Trial Judge that the arbitrator had not incorporated in the award any material for his conclusion nor had he incorporat ed the terms of contract between the parties.\\nUnder such circumstances the award could not be set aside, especially when there was no error apparent on the face and that there was nothing to show that the arbitrator had mis conducted the proceedings or that the award had been improperly pro cured.\\nSo the objection to the passing of the award was turned down.\\nAggrieved thereby, the respondent filed appeals before the High Court.\\nThe High Court by the impugned judgment dated 5.5.\\n1988 set aside the awards and the decree of the Trial Court on the ground that there were errors of law apparent on the face of the awards.\\nIt is contended that the High Court in the circumstances of this case and in view of the settled principles of law, exceeded its jurisdiction by acting in the manner it purported to do.\\nIt is, therefore, necessary to refer to the award to determine how has the arbitrator proceeded and what actually the arbitrator has decided.\\nThe arbitrator has noted in the first award that the dispute related to the work of 'Siruvani drinking Water Supply project Construction of an Intak Tower and allied structures '; and observed that an estimate amounting to Rs. 17.45 lakhs was sanctioned for the work and it was entrusted on contract to the 671 claimant appellant herein, on tenders.\\nThe value of the work arranged on contract was Rs. 14.45 lakhs as per the departmental estimate which the appellant undertook, as understood by the arbitrator, to carry out works at a total amount of Rs. 19.15 lakhs as per their tender.\\nThe contract was embodied in agreement No. 18/SC/SPS/1977 78 dated 17.3.78 between the claimants on the one side and the re spondent No. 2 on behalf of the State of Kerala cited as respondent No. 1 on the other, in these proceedings.\\nThe work had been taken up as part of the scheme for augmenting the drinking water supply to Coimbatore city from the yield of the Siruvani river and due to acute scarcity of water in the city, work was taken up on an urgent footing and it was understood by both the parties that time was of utmost importance in the execution of work.\\nThe site for the work was handed over to the claimants on 17th December, 1977 and the work had to be completed by 15.6.1978.\\nAccordingly to the arbitrator, however, it was clear that the work could not be completed within the stipulated period due to various reasons for which each party blamed the other.\\nIt was noted in the award that according to the respondents, after carry ing out the work to the tune of Rs.3.46 lakhs (approx.) against the accepted probably estimate of contract of Rs. 19.15 lakhs, the appellant refused to proceed with the.\\nbalance work in spite of specific notices to them and so the respondents were constrained to terminate the contract at the risk and cost of the appellant.\\nSeveral efforts were made to re arrange the balance works and finally as per the situation obtaining then these works were to be expected to be completed at an excess cost of Rs.0.97 lakhs over the amount that would have been payable to the appellant as per the terms of the original contract.\\nThe arbitrator, thereaf ter, noted that the appellant had raised in respect of the dispute which is the subject matter in the first award, specific claims for an amount of Rs. 5.97 lakhs in addition to release of their retention sum of Rs. 32,139 and the security deposit of Rs.38,400 payment of final bill for the work done including the above claims, interest on amounts awarded and cost of the arbitration proceedings.\\nIt seems from the award of the arbitrator that the contention of the respondents had been that as per the terms of the contract, they were entitled to realise the excess cost on re arrangement of the balance works estimated at Rs.0.87 lakhs from the claimant and so they proposed to appropriate the retention sum of Rs.32,139 lying in their hands, the Security Deposit of Rs.38,400 and the sums due to the claimant by way of final bill on other works as well.\\nIt was noted by the arbitrator that there was a prayer by the appellant for inspection of the site and the same was in spected on 9.12.80.\\nIt was contended on behalf 672 of the claimant that the site of work was situated on the Western Ghats far away from human habitation in dense forest infected with wild animals at an elevation of about 600 M and subject to heavy precipitation of upto 400 cms.\\nannually and that access to the site was only from Coimbatore side in Tamil Nadu.\\nSeveral obstacles for access to the site were highlighted before the arbitrator.\\nAnother important point on which considerable stress was laid was the compensation for losses occasioned to them on account of the unsatisfac tory law and order situation coupled with labour unrest, stoppages and threats and even physical violence on the agents of the appellant.\\nIt was further highlighted that the termination of the contract at their risk despite the frus tration and impossibility of performance was clearly illegal and unjustified.\\nIn the premises compensation was demanded for loss of equipments.\\nThe arbitrator noted that the main point of defence of the respondent was that the time for the completion of the work forming part of the time bound pro gramme was six months from the date of handing over the site.\\nAs the site was handed over on 16.12.77, the date of completion should have been 15.6.1978.\\nOf the difficulties arising out of the location of the site of the work, it was emphasised by the respondent that the conditions under which the contract had to be performed were within the knowledge of the parties, and there could not be any ground for claim ing any addition than those contemplated in the contract.\\nIt was definitely further stated that the additional haulage was due to the alternate route via Thachampara which was opened on 15.2.1977 and that any claim on this account subsequent to the above date was unjustified.\\nFurthermore, that materials like sand, cement and steel were all issued in time and there could hardly be any justification regard ing delays on these account.\\nRegarding interruptions in power supply the respondents ' case was that such interrup tions were not unexpected at a site to which the power lines passed through virgin reserve area, and at any rate the claimants were not assured by the respondents of uninter rupted power and there was hardly any items of machinery belonging to the appellant which had remained idle for want of power.\\nIt was further stated that the various extra items of works including the work on the quarries had been adequately paid for by them and no further payments were due to the appellant; that there was no serious deterioration of the law and order situation; and that the losses were due to the conduct of the claimant and the materials left over by the claimant at the end of the second working seasons that had been taken over by them, duly accounted for and the credit thereof given in the final bill.\\nIt was further reiterated by the respondent that the work 673 was not completed within the period agreed and, therefore, the respondent issued notice to resume the work and on the failure of the claimant to re start the work, there was no other alternative except to terminate the contract as the work itself was part of a time bound programme; and they had to make alternate arrangements and that would have cost Rs.0.87 lakhs additionally which was sought to be recovered from the appellant appropriating the retention money and security deposit.\\nIt was, therefore, claimed that the claims of the appellant should be rejected.\\nConsidering all these contentions and noting the several respective claims, the arbitrator awarded as follows: \\\"Claims Nos.\\n(1), (2) (a & b) and (3) These claims are declined.\\nClaim No. 4 The Respondents shall pay the Claimants a sum of Rupees Ninety Six Thousand only (Rs.96,000) in satisfaction of this claim including the various Sub Claims under the same.\\nClaims No. 5(a), (b) & (c) The Respondents shall pay an amount of Rs. five thousand only (Rs.5,000) to the Claimants in satisfaction of this claim.\\nClaims Nos.\\n(6), (7), (8) and (9) These four Claims are declined.\\nClaim No. (10) The retention moneys recovered from the Claimants in regard to this work shall be refunded to them by the Respondents.\\nClaim No. 11 The f.oo.\\nfor the work shall be paid to Claimant for the sums awarded under Claims (4) and (5) Supra resulting in a net payment of Rupees one Lakh and One thousand only (Rs. 1,01,000).\\nClaim No. 12 The Respondents shall refund the security deposit held by the Claimants for this work subject to the rules regarding tax clearance.\\nClaim No. 13 The Claim for interest is de clined.\\nClaim No. 14 The parties shall suffer their respective costs in these proceedings.\\n\\\" 674 Regarding the counter claims it was held that the order of the 2nd respondent terminating the contract in favour of the appellant was valid and as such, the respondents were free to arrange for the balance work in the manner they thought fit.\\nThe counter claim for costs of the respondents was also held by the arbitrator to be covered by other claims.\\nThe award was passed on 12th April, 1982.\\nThere was another award dated 16th April, 1982 which was with regard to the dispute that arose for controlling the work of \\\"Siruvani Drinking Water Supply Project Construct ing a Masonry dam across Siruvani River Block Nos.\\nI, II and III from Ch.\\n13 to 60 up to level + 883.00 metres and Block No. III from ch. 60 to 82 upto level + 870 metres\\\".\\nIn respect of the aforesaid, an estimate amounting to Rs.71.5 lakhs had been sanctioned for the work and it was entrusted on contract to the appellant.\\nIt appears that the value of the work arranged on contract was Rs.67,72,760 as per de partmental estimate which the appellant undertook to carry out at a total amount of Rs.76,55,300 as per their tender.\\nThe contract was embodied in the aforesaid agreement of 23rd December, 1976.\\nThe arbitrator recited the original claim and noted that the work could not be completed during the scheduled time and the respective contentions of the parties were, more or less, identical with the one made in the previous case.\\nThere was inspection of documents and the parties were heard in person, it was noted.\\nAfter noting the respective contentions the arbitrator awarded as follows: \\\"Claim No. (1)(A) The Claim for additional payment on account of aslar work is declined.\\nClaim No. (1)(B) The Respondents shall pay the Claimants an additional amount of Rupees One Lakh only (Rs. 1,00,000) in satisfaction of this claim over and above the amounts al ready paid by them in the various part bills.\\nClaim No, (1)(c) This claim for compensation on account of loss in hire charges and short age of rubble is declined.\\nClaim No. 2 The Respondents shall pay the Claimants a sum of Rupees three lakhs and thirty six thousand only (Rs.3,36,000) in satisfaction of this claim.\\nClaim Nos. 3 & 4 These two claims are de clined.\\n675 Claim No. 5 The Respondents shall pay the Claimants an increase of forty (40) per cent in the agreed rates for agreed items and rates derived from the agreement for the extra items for all work paid for after CC2 and part, such increase being worked out on the cost of the work excluding the value of the materials supplied by the Respondents.\\nClaim No. 6 The Claimant shall be entitled to a payment of Rupees twenty five thousand only (Rs.25,000) in satisfaction of this claim and the Respondent shall pay it accordingly.\\nClaim No. 7(a)(b) & (c) The Claimants shall be entitled to a consolidated payment of Rupees fifty thousand only (Rs.50,000) from the Respondents in satisfaction of these claims and the same shall be paid accordingly in addition to the payments already made.\\nThe Claimants on receipt of such payment shall have no lien whatsoever on the sheds, goods of whatever description and materials lying at the site of the work and said to belong to them.\\nClaims 8, 9, 10, 11 & 12 These five claims are declined.\\nClaim No. 13 The retention amounts from the bills of the Claimants lying in the hands of the Respondents shall be released to them.\\nClaim No. 14 An amount of Rupees two lakhs only (Rs.2,00,000 shall be paid to the claim ants in settlement of the final claims on the work in addition to the specific items re ferred to in the other claims as per this award.\\nClaim No. 15 The Security offered by the Claimants for this work shall be released to them subject to the rules regarding tax clear ance.\\nClaim No. 16 The claim for interest is de clined.\\nClaim No. 17 The parties shall suffer their respective costs in these proceedings.\\n\\\" Regarding the counter claims, it was reiterated by the arbitrator that the respondents were entitled to arrange for the balance work in any manner they deemed fit on the termi nation of the contract by 676 them.\\nBut the appellant should not be responsible for any loss that might be sustained for this re arrangement.\\nThe counter claim for costs of the respondents was also dealt with.\\nThere was a third award dated 23.4.1982 which was in respect of the sum due to Blocks Nos.7, 8 & 11.\\nIn respect thereof an estimate of Rs.69.7 lakhs had been sanctioned for the work and it was entrusted to the appellant.\\nThe value of the work arranged on that contract was Rs.63.68 lakhs as per the departmental estimate which the claimants undertook to carry but at a total amount of Rs.71.96 lakhs as per their tender.\\nAfter reiterating that time was of the essence of the contract, the difficulties that arose in carrying out the contract and the respective contentions, which were identical with those in respect of the first two contracts were discussed.\\nIn respect of interruptions in power supply the case of the respondent was that such interruptions were not unexpected at a site through which the power lines passed through virgin reserve forest and that the claimants had not been assured by the respondents of uninterrupted power and in any case there was hardly any item of machinery belonging to the claimant which could have remained idle for want of power.\\nIn respect of the medical facilities it was submitted by the respondents that according to the terms of the contract it was the primary, duty of the appellant to provide for medical assistance to their work force.\\nAfter setting out the rival contentions the arbitrator awarded as follows: \\\"Claim No. (1)(A) The claim for additional payment on account of aslar work is declined.\\nClaim No. (1)(B): The respondents shall pay the claimants an additional amount of rupees seventy five thousand only (Rs.75,000) in satisfaction of this claim over and above the amounts already paid by them in the various part bills.\\nClaim No. (1)(C): The claim for compensation on account of loss of hire charges and short age of rubble is declined.\\nClaim No. 2: The respondents shall pay the claimants a sum of Rupees three lakhs and seventy five thousand only (Rs.3,75,000) in satisfaction of this claim.\\nClaim Nos. 3 & 4: These two claims are de clined.\\nClaim No. 5: The respondents shall pay the claimants an 677 increase of Forty (40) per cent in the agreed rates for agreed items and rate derived from the agreement for extra items for all work paid for after CC 2 and part, such increase being worked out on the cost of the work excluding the value of materials supplied by the respondents.\\nClaim No. 6: the claimants shall be entitled to a payment of rupees twenty five thousand only (Rs.25,000) in satisfaction of this claim and the respondents shall pay it accordingly.\\nClaim No. 7(a)(b) & (c): The claimants shall be entitled to a consolidated payment of rupees fifty thousand only (Rs.50,000) from the respondents in satisfaction of these claims and the same shall be paid accordingly in addition to the payments already made.\\nThe claimants on receipt of such payment shall have no lien whatsoever on the sheds, goods of whatever description and materials lying at site of the work and said to belong to them.\\nClaims Nos. 8, 9, 10, 11 & 12: These five claims are declined.\\nClaim No. 13: The retention amounts from the bills of the claimant lying in the hands of the respondents shall be released to them.\\nClaim No. 14: An amount of rupees fifty thou sand only (Rs.50,000) shall be paid to the claimants in settlement of the final claims on the work in addition to the specified items as per this award.\\nClaim No. 15: The security offered by the claimants for the work shall be released to them subject to the rules regarding tax clear ance.\\nClaim No. 16: The claim for interest is de clined.\\nClaim No. 17: The parties shall suffer their respective costs in these proceedings.\\n\\\" About the counter claims it was also stated that the claimants would not be responsible to carry out the balance work which the 678 respondents might arrange in any manner they thought fit on termination of the contract, but it should not be at the risk of the claimants.\\nUpon these awards, an application was made before the Court of the Principle Sub Judge, Trivandrum, for passing decrees ' in terms of the award.\\nObjections were also filed.\\nThe learned Judge by his judgment and order dated 25th September, 1982 dealt with the objections.\\nHe rejected the contention that the claims were barred.\\nHe further held that it was not necessary for the arbitrator to give reasons for his award; and that there was no provision under the law which required that the arbitrator should furnish reasons for the award.\\nIt was submitted before him that the arbitra tor ought to have given separate findings for the issues under claim No. 4 as the issues raised were entirely inde pendent of each other.\\nIt was submitted that under sub claim (a) in claim No. 4 the appellant had claimed loss on account of the pressure tactics adopted by the labourers.\\nUnder sub claim (b) the appellant had claimed compensation for the extra works done.\\nIn the statement of defence filed by the respondents it was more or less conceded that the claim for extra works would lie, and stated that the actuals should be accounted and paid along with the final bill.\\nThe learned judge noted that the arbitrator could only give a lump sum award with respect to various claims and that he need not quantify the sum awarded under each claim separately.\\nIt was contended before the learned Sub Judge that in respect of claim No. 5, there was no evidence to support the claim.\\nUnder that claim the appellant had detailed the value of tools, plants and materials etc.\\nthat were left by him at the site.\\nIn the defence statement itself the respondent admitted that some materials belonging to the appellant were taken possession of by them and the value thereof would be paid in the final bill.\\nTherefore, according to the learned judge, it was not correct to say that there was no evidence at all for allowing claim No. 5.\\nFurther,it was held that there was no jurisdiction to investigate into the merits of the case and to examine the documentary and oral evidence for the purpose of finding out whether or not the arbitrator had committed an error of law or fact.\\nThe learned judge reiterated that the arbitrator had not incorporated in the award any materials for his conclusion nor did he incorpo rate the terms of the contract between the parties.\\nUnder such circumstances the award could not be set aside espe cially when there was no error apparent on the face of it; and there was nothing to show that the arbitrator had mis conducted the proceedings or that the award had been improp erly procured.\\nSo the objection was repelled.\\nIn the prem ises the judgment in terms of the award was passed.\\nIn respect of the three awards, three different judgments were 679 delivered incorporating more or less the same reasons.\\nBeing aggrieved thereby the respondent preferred appeals before the High Court.\\nThe Division Bench of the High Court by the judgment under appeal in F.M.A. Nos. 72, 346 and 380 of 1983 disposed of the appeals.\\nBeing aggrieved thereby, the appellant is before this Court.\\nIn the judgment under appeal, the Division Bench of the High Court has set out the claims and noted the rival contentions and referred to the various clauses and the conditions of the contract, though the contract itself was made no part of the award.\\nThe Division Bench referred to the decision of the learned Sub Judge.\\nBefore the Division Bench, the main contention which succeeded was that there were errors apparent on the face of award, and further that the arbitrator had misconducted himself and travelled beyond the terms of the contract.\\nOn behalf of the appellant, however, it was contended that the award was a nonspeaking award and, hence, it was not open for the court to go into the correctness of the reasons of the award.\\nThe High Court referred to the several decisions of this Court and other relevant decisions of the Kerala High Court.\\nIn order, however, to appreciate the contentions, it is necessary to refer in detail to the judgment under appeal.\\nThe High Court referred to the various clauses of the contract which were produced before the High Court.\\nThe submissions were made on behalf of the respondents .that the claims allowed were beyond and contrary to the agreement between the parties.\\nThe High Court noted that the arbitrator had allowed claims Nos. 1(b), 2, 5, 7(a), 7(b), 7(c), 13, 14 2 15 and had passed an award for payment of an amount of Rs.31.15 lakhs to the claimant towards his claim under the several heads mentioned therein.\\nThe High Court noted the judgment of the learned Sub Judge.\\nIt was held by the learned Sub Judge that the court could set aside an award only when it was the result of corruption, fraud or there were errors apparent on the face of the award.\\nAccording to the learned Sub Judge there was no error apparent on the face ' of the award and there was no allegation of fraud.\\nThereafter, the different points on which the learned Sub Judge rested his decision, were noted by the High Court.\\nIt was contended before the High Court on behalf of the respondents that there were errors apparent on the face of the award, and that the arbitrator had misconducted himself and travelled beyond the terms of the contract.\\nThe first contention urged on behalf of the respondents, however, was that the award was a non speaking award and, there 680 fore, it was not open to the court to go into the correct ness or reasonableness of the award.\\nThe High Court held that when the arbitrator was constituted the sole and final judge of all questions both of law and of facts, normally his decision should stand final and it was only when there was any error apparent on the face of the award either because a question of law arose on the face of the award or upon some paper accompanying or forming part of the award, it could be interfered with.\\nThereafter, the High Court in para 8 of its judgment observed that in the light of several decisions it could say that there were any errors apparent on the face of the award, and that the arbitrator had mis conducted himself and had travelled beyond his power.\\nThe High Court referred to the decision of the Division Bench of the Kerala High Court in State of Kerala vs Poulose, The High Court, thereafter, observed that it was not open to the arbitrator or the umpire to arrogate tO himself jurisdiction and answer a question not referred to him.\\nIn this connection, reference was made by the High Court to several decisions, namely, Attorney General for Manitoba vs Kelly and Ors., ; Upper Ganges Valley Electricity Supply Co. Ltd. vs U.P. Electricity Board, ; ; M/s Alopy Parshad & Sons, Ltd. vs The Union of India, and Jivarajbhai Ujamshi Sheth & Ors.\\nvs Chintamanrao Balaji & Ors., [1964] 5 SCR480.\\nRegarding claim No. 1(b) it was the contention of the respondent that the award was over and above the amounts already paid under various part bills.\\nIt was argued before the High Court that the Department had measured and paid for all quantities of earth work and ruble work and the same had been entered in the measurement book and accepted by the contractor.\\nHence, the award of additional amount was unwar ranted.\\nIt was also argued that as per clause 10 of Form No. 83 (Notice inviting tender) which formed part of the agree ment, every tenderer was expected to inspect the site of the proposed work and quarries, and satisfy himself about the quality and availability of materials.\\nIt was also notified in the same clause that the Govt.\\nwould not, after accept ance of the contract rate, pay any extra charges for lead or any other reason in case the contractor was found later on to have mis judged the materials available.\\nIt was also notified that the Department would not be liable for any claim raised later on the plea of non access to the site.\\nR2 was a copy of extract of Clause 10 of Form No. 83.\\nIt was argued that the award of Rs.75,000 under claim 1(b) was beyond the powers of the arbitrator.\\nThe High Court held that the award on this aspect was beyond the provisions of the agreement, and therefore there were errors apparent on the face of the award.\\n681 Similarly, in respect of the claim for Rs.3,75,000 under claim No. 2, it was contended on behalf of the respondents that this was beyond the powers of the arbitrator and, as such, there were errors apparent on the face of the award.\\nIt was argued by him that clause No. 2 of the general speci fication and special conditions of the contract clearly notified to the tenderers the site of the dam.\\nIt was also contended by the Govt.\\nPleader that the period during which the contractor had conveyed sand through Madukkarai, the claimant had been actually paid additional conveyance charges.\\nHence, after construing clause 10 of Form No. 83, namely, notice inviting tender, the High Court held that it was necessary for the contractor to have inspected the site before tender.\\nTherefore, in awarding, the amount as the arbitrator did on this head, there was error apparent on its face and such award was liable to be set aside.\\nThe High Court did so accordingly.\\nWith regard to claim No. 5, it was contended that the claim was beyond the powers of the arbitrator and reference was made to clause 6(6)111 of the General Specification and Special Conditions which stated that the Department was not responsible for supply of uninterrupted electric supply, so any damage on that basis was also unwarranted.\\nThe finding on this issue found in the award was set aside.\\nSimilarly, in connection with claim No. 6, there was a claim for Rs.24,000 towards expenses for providing a perma nent doctor.\\nIt was held to be contrary to Clause 7 of (IV) of the contract dealing with camp facilities medical aid etc.\\nwhich, according to the high Court, indicated that the contractor himself was responsible for providing medical facilities to the contract labourers and that the respond ents were not bound to pay any additional medical expenses.\\nThe claim on this construction and view of the contract, was held to be not sustainable.\\nThe arbitrator had awarded Rs.50,000 by way of damages for sheds and other materials left by the contractor at the site under claim No. 7.\\nIt was held by the High Court that it was the duty of the contractor to remove the sheds and materials brought by him and, therefore, the award allowing such claim was definitely against the provision of the contract.\\nOn this head it was held that the award by the arbitrator was contrary to the provision of the agreement and as such bad.\\nRegarding claim No. 14 for an additional amount of Rs.50,000 it 682 was held that it was unsustainable and due to the misconduct of the arbitrator that it was awarded.\\nIt was further ob served that it was beyond the power of the arbitrator as it was against the provisions of the contract.\\nWhile dealing with that part of the award which exoner ated the contractor from the risk after holding that the termination of the contract by the respondent was valid, it was held that the same was opposed to the provisions of the agreement.\\nThe direction to release the amount and release of security deposit without taking into account the liabili ty to account for the loss on re arrangement of work amount ed to errors apparent on its face.\\nIn the aforesaid light, the High Court held that the award under claims Nos. 1(b), 2, 5, 6 & 7 and also the award of an additional sum of Rs.50,000 under claim No. 14 over and above the claim al lowed was against the terms of the contract and, therefore, liable to be set aside.\\nSimilarly, in M.F.A. No. 346/82, the High Court went into the details of the claims and on the construction of the contract, came to the conclusion that the termination of the contract was legal and that the exoneration of the contractor from the risk and losses was opposed to that finding.\\nIn the aforesaid light, the High Court set aside several claims as mentioned in the judgment on the award.\\nOn similar or, more or less, identical grounds several items of MFA No. 380/83, were set aside.\\nOne of the claims under claim No. 4 was the award of Rs.96,000.\\nThe High Court found that it was under clause 20(5) of the General Specification and Special Conditions of the contract, which stated that the Department would not be liable to pay any damages or compensation for hold up caused by intervention of the court, labour strike or any other extraneous forces and therefore and award under claim No. 4 on the ground of labour unrest and extra work, suffered from being erroneous and was liable to be set aside.\\nThe clause of the contract covered only situations of labour strike and not labour unrest.\\nIt was submitted before us that the High Court had exceeded its jurisdiction in acting in the manner it did on these aforesaid aspects.\\nThe first question, therefore, that arises for consideration in this case is, whether the award in question was a speaking award or not.\\nIn our opinion, the award was not a speaking award.\\nAn award can also be set aside if the arbitrator had misconducted himself or the proceedings or had proceeded beyond his jurisdiction.\\nThese are separate and district 683 grounds for challenging an award.\\nWhere there are errors apparent on the face of the award it can only be set aside if in the award there is any proposition of law which is apparent on the face of the award, namely, in the award itself or any document incorporated in the award.\\nThe Judi cial Committee in Champsey Bhara & Co. vs Jivraj Balloo Spinning & Weaving Co, Ltd., L 1922 IA 324 has discussed this problem.\\nIt was held that an award of arbitration can be set aside on the ground of error of law apparent on the face of the award only when in the award or in a document incorporated with it, as for instance a note appended by the arbitrator stating the reasons for his decision, there is found some legal proposition which is the basis of the award and which is erroneous.\\nIn that case the appellants had sold cotton to the respondents by a contract which contained a submission to arbitration of disputes as to quality, and a further clause submitting to arbitration all other disputes arising out of the contract.\\nCotton was delivered, but the respondents objected to its quality, and upon arbitration an allowance was awarded; the respondents thereupon rejected the cotton.\\nThe appellants claimed damages for the rejec tion, and upon that dispute being referred to arbitration under the further clause, were awarded damages.\\nThe award recited that the contract, the date and subject of which were stated, was subject to the rules of the Bombay Cotton Trade Association, which were not further referred to; and that the respondents had rejected on the grounds contained in a letter of a certain date.\\nThat letter stated merely that as the arbitrators had made an allowance of a certain amount the respondents rejected the cotton.\\nThe High Court set aside the award, holding that it was bad on its face, in that under one of the rules of the Association the respond ents were entitled to reject without liability.\\nIt was held by the Judicial Committee that the award could not be set aside; the terms of the contract were not so incorporated with the award as to entitle the Court to refer to them as showing, either that the award was wrong in law, or that under them the contract, and therefore the jurisdiction of the arbitrators, were terminated.\\nThis decision and the ratio on this proposition of law has always been accepted by the courts of this country and is well settled.\\nThe next question on this aspect which requires consid eration is that only in a speaking award the court can look into the reasoning of the award.\\nIt is not open to the court to probe the mental process of the arbitrator and speculate, where no reasons are given by the arbitrator, as to what impelled the arbitrator to arrive at his conclusion.\\nSee the observations of this Court in Hindustan Steel Works Con struction Ltd. vs C. Rajasekhar Rao, [1987] 4 SCC 93.\\nIn the in 684 stant case the arbitrator has merely set out the claims and given the history of the claims and then awarded certain amount.\\nHe has not spoken his mind indicating why he was done what he has done; he has narrated only now he came to make the award.\\nIn absence of any reasons for making the award, it is not open to the court to interfere with the award.\\nFurthermore, in any event, reasonableness of the reasons given by the arbitrator, cannot be challenged.\\nAppraisement of evidence by the arbitrator is never a matter which the court questions and considers.\\nIf the parties have selected their own forum, the deciding forum must be conced ed the power of appraisement of the evidence.\\nThe arbitrator is the sole judge of the quality as well as the quantity of evidence and it will not be for the court to take upon itself the task of being a judge on the evidence before the arbitrator.\\nSee the observations of this Court in Municipal Corpn.\\nof Delhi vs M/s Jagan Nath Ashok Kumar & Anr.\\n, ; The same principle has been stated in M/s. Alopi Parshad & Sons, Ltd. vs The Union of India, (supra).\\nThere this Court held that the award was liable to be set aside because of an error apparent on the face of the award.\\nAn arbitra tion award might be set aside on the ground of an error on the face of it when the reasons given for the decision, either in the award or in any document incorporated with it, are based upon a legal proposition which is erroneous.\\nBut where a specific question is referred, the award is not liable to be set aside on the ground of an error on the face of the award even if the answer to the question involves an erroneous decision on a point of law.\\nBut an award which ignores express terms of the contract, is bad.\\nSimilarly, in Jivarajbhai Ujamshi Sheth & Ors.\\nvs Chintamanrao Balaji & Ors.\\n(supra), this Court reiterated that an award by an arbitrator is conclusive as a judgment between the parties and the court is entitled to set aside an award if the arbitrator has misconducted himself in the proceeding or when the award has been made after the issue of an order by the Court superseding the arbitration or after arbitration proceedings have become invalid under section 35 of the or where an award has been improperly pro cured or is otherwise invalid under section 30 of the Act.\\nAn award may be set aside on the ground of error on the face of the award, but an award is not invalid merely because by a process of inference and argument it may be demonstrated that the arbitrator has committed some mistake in arriving at his conclusion.\\nThe Court, however, went into the ques tion whether the arbitrator had included depreciation and appreciation of certain assets in the value of the goodwill which he was incompetent to include by virtue of the limits placed upon his authority by the deed of 685 reference.\\nThe Court found that was not a case in which the arbitrator had committed an error of fact or law in reaching his conclusions on the disputed questions submitted for adjudication.\\nIt was a case of assumption of jurisdiction not possessed by him and that rendered the award to the extent to which it was beyond the arbitrators ' jurisdiction, invalid.\\nThis was reiterated by Justice Hidayatullah that if the parties set limits to action by the arbitrator, then the arbitrator had to follow the limits set for him and the court can find that he exceeded his jurisdiction on proof of such excess.\\nIn that case the arbitrator in working out net profits for 4 years took into account depreciation of immov able property.\\nFor this reason he must be held to have exceeded his jurisdiction and it is not a question of his having merely interpreted the partnership agreement for himself as to which the Civil Court could have had no say, unless there was an error of law on the face of the award.\\nTherefore, it appears to us that there are two different and distinct grounds involved in many of the cases.\\nOne is the error apparent on the face of the award, and the other is that the arbitrator exceeded his jurisdiction.\\nIn the latter case, the courts can look into the arbitration agreement but in the former, it can not, unless the agreement was incorpo rated or recited in the award.\\nIn Upper Ganges Valley Elec tricity Supply Co. Ltd. vs U.P. Electricity Board (supra), the respondent had taken over the appellant 's undertakings, but as the parties were at variance on the true market value to be paid to the appellant, the matter was referred to arbitration.\\nAs the arbitrators were unable to agree on the question whether the appellant was entitled to compensation for the 'service lines ' which were laid with the help of contributions made by consumers, they referred the question to the umpire.\\nThe umpire framed an issue and gave a finding that the appellant was not entitled to claim from the re spondent the value of the position of the service lines which were laid at the cost of the consumers, for the sole reason that they were laid at the cost of the consumers.\\nThe appellant filed an application under section 30 of the challenging the validity of the award on the question.\\nThe lower court and the High Court held against the appellant.\\nAllowing the appeal, it was held by this Court that the appellant 's application for setting aside the award could succeed only if there was any error of law on the face of the award.\\nThere, it was found, that the umpire had made a speaking award and there was no question of the construction of any document incorporated in or appended to the award.\\nIf it was transparent from the award that a legal proposition which forms its basis is erroneous, the award is liable to be set aside.\\nAn award may be remitted or set aside on the ground that the 686 arbitrator in making it, had exceeded his jurisdiction and evidence of matters not appearing on the face of it, will be admitted in order to establish whether the jurisdiction had been exceeded or not, because the nature of the dispute is something which has to be determined outside award whatever might be said about it in the award or by the arbitrator.\\nSee in this connection, the observations of Russell on The Law of Arbitration, 20th Edn. 427.\\nAlso see the observations of Christopher Brown Ltd. vs Genossenschaft Oesterreichisch er etc., at p. 10 and Dalmia Dairy Industries Ltd vs National Bank of Pakistan, It has to be reiterated that an arbitrator acting beyond his jurisdiction is a different ground from the error apparent on the face of the award.\\nIn Halsbury 's Laws of England (4th Edn.\\n2 para 622) one of the misconducts enumerated, is the decision by the arbitrator on a matter which is not included in the agreement or reference.\\nBut in such a case one has to determine the distinction between an error within the jurisdiction and an error in excess of the jurisdiction.\\nSee the observations in Anisminic Ltd. vs Foreign Compensa tion Commission; , and Regina vs Noseda, Field, Knight & Fitzpatrick, But, in the instant case the court had examined the different claims not to find out whether these claims were within the disputes referable to the arbitrator, but to find out whether in arriving at the decision, the arbitrator had acted correctly or incorrectly.\\nThis, in our opinion, the court had no jurisdiction to do, namely, substitution of its own evalua tion of the conclusion of law or fact to come to the conclu sion that the arbitrator had acted contrary to the bargain between the parties.\\nWhether a particular amount was liable to be paid or damages liable to be sustained, was a decision within the competency of the arbitrator in this case.\\nBy purporting to construe the contract the court could not take upon itself the burden of saying that this was contrary to the contract and, as such, beyond jurisdiction.\\nIt has to be determined that there is a distinction between disputes as to the jurisdiction of the arbitrator and the disputes as to in what way that jurisdiction should be exercised.\\nThere may be a conflict as to the power of the arbitrator to grant a particular remedy.\\nSee Commercial Arbitration by Sir N.J. Mustil and Stewart C. Boyd page 84.\\nThe High Court in the judgment under appeal referred to the decision of the Division Bench of the Kerala High Court in State of Kerala vs Poulose, (supra).\\nOur attention was also drawn to the said decision by the counsel for the respondents that if an arbitrator or the umpire travels beyond his jurisdiction and arrogates jurisdiction that does not vest in him, that would be a ground to impeach the award.\\nIf 687 an arbitrator, even in a non speaking award decides contrary to the basic features of the contract, that would vitiate the award, it was held.\\nIt may be mentioned that in so far as the decision given that it was possible for the court to construe the terms of the contract to come to a conclusion whether an award made by the arbitrator was possible to be made or not, in our opinion, this is not a correct proposi tion in law and the several decisions relied by the learned Judge in support of that proposition do not support this proposition.\\nOnce there is no dispute as to the contract, what is the interpretation of that contract, is a matter for the arbitrator and on which court cannot substitute its own decision.\\nReference was also made to the decision in State of Kerala vs Raveendranathan, Insofar as the court held therein that an arbitrator deciding a dispute under the contract, is bound by the contract, the court is right.\\nThe court cannot, however, substitute the decision of the arbitrator as to what was meant by the contract, once that dispute is conceded to the arbitrator.\\nIn so far and to the extent the aforesaid decision of the Kerala High Court decided to the contrary, the same is not the correct law.\\nThe Kerala High Court in certain decisions relied on certain authorities of England.\\nIn a decision of the House of Lords in F.R. Absalom, Ltd. vs Great Western (London) Garden Village Society, Ltd., it was held that the arbitrator had erred in his construction of clause 30 of the contract.\\nBut as the judgment of Lord Warrington at page 600 of the report, made it quite clear that the arbitrator had recited the terms of clause 32 of the contract in the award, and thereafter on the construction of that clause, the court decided that the arbitrator had misconstrued the effect thereof.\\nThat was a case where dispute was not within the contract.\\nIn Heyman & Anr.\\nvs Darwins, Ltd., the controversy was entirely different.\\nSimilarly, in Attorney General for Manitoba vs Kelly & Ors., (supra), upon which the High Court in the judgment under appeal referred was again in a different context.\\nThere, in an action in Manitoba against building contractors to recover sums im properly paid to them under a contract, and for damages, a judgment by consent was entered whereby it was provided, inter alia, that the plaintiff should recover, among other sums, \\\"all loss to the plaintiff by reason of defective workmanship and materials\\\", and that these should be set off against the sums recovered by the plaintiff the fair value of the work done and materials provided at fair contractor 's prices.\\nThe judgment, however, provided further that the sums to be debited and 688 credited were to be determined by two appraisers, and that any matter upon which they differed was to be referred to a named umpire whose decision thereon was to be final; and that the Manitoba should not apply.\\nThe defendants moved to set aside or vary an award.\\nIt was held that under the words \\\"all loss\\\" there was jurisdiction to award to the plaintiff not only sums actually expended, but also a sum estimated as being necessary to make good the defects, and that extrinsic evidence was not admissible to show that the sum allowed to the defendants as set off had been reduced in respect of defective work for which they had also been debited.\\nFurther, it was held that the award being within the jurisdiction conferred by the submission, and there being no error apparent on its face, it could not be questioned either on the facts or on the law.\\nIn the instant case, the High Court seems to have fallen into an error of deciding the question on interpretation of the contract.\\nIn the aforesaid view of the matter we are of the opinion that the High Court was in error.\\nIt may be stated that if on a view taken of a contract, the decision of the arbitrator on certain amounts awarded, is a possible view though perhaps not the only correct view, the award cannot be examined by the court in the manner done by the High Court in the instant case.\\nIn light of the above, the High Court, in our opinion, had no jurisdiction to examine the different items awarded clause by clause by the arbitrator and to hold that under the contract these were not sustainable in the facts found by the arbitrator.\\nThese appeals are, therefore, allowed.\\nThe judgment and order of the High Court are set aside and the orders of the learned Sub Judge are restored.\\nIn the facts and the circum stances of the case, however, the parties will bear their own costs.\\nP.S.S. Appeals al lowed.\"\n        ],\n        \"semantic_type\": \"\",\n        \"description\": \"\"\n      }\n    },\n    {\n      \"column\": \"Summary\",\n      \"properties\": {\n        \"dtype\": \"string\",\n        \"num_unique_values\": 7000,\n        \"samples\": [\n          \"In ascertaining the surplus available for the payment of bonus according to the Full Bench formula the Industrial Court allowed the statutory depreciation but did not give any credit for the rehabilitation amount claimed.\\nThe Industrial Court estimated the amount required for rehabilitation at Rs. 60 lakhs; out of this amount it deducted Rs. 51 lakhs representing the reserves and the balance of Rs. 9 lakhs spread over a period Of 15 years gave the figure of Rs. 6o,000 as the amount that should be set apart for the year in question for rehabilitation.\\nThis amount being less than the statutory depreciation the Industrial Court held that the appellant was not entitled to any deduction on account of rehabilitation as a prior charge.\\nThe appellant contended that the balance sheet disclosed that the entire reserves had been used as working capital and consequently the said reserves should not be excluded from the amount claimed towards rehabilitation.\\nHeld, that the appellant had failed to prove that the reserves had in fact been used as working capital and as such the amount was rightly deducted by the Industrial Court from the amount fixed for rehabilitation.\\nThe Associated Cement Companies Ltd. vs Its Workmen. , referred to.\\nIn view of the importance of the item of rehabilitation in the calculation of the available surplus it was necessary for tribunals to weigh with great care the evidence of both parties to ascertain every sub item that went into or was subtracted from the item of rehabilitation.\\nIf parties agreed, agreed figures could be accepted.\\nIf they agreed to a decision on affidavits, that course could be adopted.\\nBut in the absence of agreement the procedure prescribed by 0.\\nXIX, Code of Civil Procedure had to be followed.\\nThe accounts, the balance sheet and profit and loss accounts were prepared by the management and the labour had no hand in it.\\nWhen so much depended on this item it was necessary that the Industrial Court insisted upon a clear proof of the item of rehabilitation and also gave a real and adequate opportunity to labour to canvass the correctness of the particulars furnished by the employers.\\nIndian Hume Pipe Company, Ltd. vs Their Workmen.\\n[196o] 2 S.C.R. 32, Tata Oil Mills Company Ltd. vs Its Workmen ; and Anil Starch Products Ltd. vs Ahmedabad Chemical Workers ' Union.\\nC.A. No. 684 Of I957 (not reported), referred to, 842\",\n          \"The Respondent forwarded his nominations for election to the Council of the appellant No. 1 Institute by registered post to the Secretary, Appellant No. 1, on May 17, 1991, and May 18, 1991.\\nThey were received on May 23, 1991, and May 27, 1991 respectively and were rejected on the ground that they were received after the time and date fixed for the reciept of the nominations, i.e., 5.00 p.m. on May 21, 1991.\\nBeing aggrieved, the respondent filed a writ petition in the High Court seeking a writ of certiorari to quash the order rejecting his nominations.\\nThe Division Bench of the High Court allowed the writ petition holding that once the Secretary was satisfied that a nomination had been duly forwarded by the registered post to him at least 48 hours before the specified date and time, it must be deemed to have been received within the time provided.\\nThe Institute and its Secretary flied the SLP in this Court contending that under Regulation 87(2),the nominations must be forwarded by registered post and must reach the Secretary of ' the Council not later 922 than 5.00 p.m. on the specified date, i.e., May 21, 1991; that the proviso came into play only when a nomination was delivered to the Secretary against an acknowledgement before the specified time and specified date and the Secretary was satisfied that a valid nomination had been duly forwarded by registered post to him at least 48 hours before the speci fied date and time; and that the High Court had erred in disregarding the opening part of the proviso which read \\\"Provided that a nomination delivered against an acknowl edgement before the aforesaid time and date. \\\" The respondent contended that what was intended to be prescribed by the use of expression, \\\"so as to reach him not later than 5.00 p.m. on the specified date\\\" in clause (ii) of sub regulation (2) of Regulation 87, was that the nomina tions which had been forwarded by registered post to the Secretary 48 hours before the specified time and date of the election must be deemed to have reached the Secretary in time.\\nAllowing the appeal, this Court, HELD: 1.\\nThe entire scheme of sub regulation (2) of Regulation 87 and the proviso shows that one of the main pre conditions required before a nomination can be said to have been duly received, is that a valid nomination must be received by the Secretary before the specified time and date.\\n[926C] 2.\\nIt is true that the rule, in terms, requires that the nominations should be sent by registered post, but taking into account the fact that such a nomination might not be received by the Secretary even though posted more than 48 hours before the specified time and date, it was provided that if the nomination was delivered by hand to the Secre tary before the specified time and date against acknowledge ment, that nomination would be treated as having been valid ly received provided the Secretary was satisfied that the nomination was forwarded by registered post to him by the candidate 48 hours prior to the specified time and date.\\n[926D E] 3.\\nWhat is meant by the use of the expression, \\\"so as to reach him not later than 5.00 p.m. on the specified date\\\" in sub regulation (2) of Regulation 87, is that the nomination must be forwarded by registered post to the Secretary so as to reach him in fact or actually reach him not later than 5.00 p.m. on the specified date.\\nThe rigour of the rule is relaxed by the proviso under which if a proper nomination was 923 delivered against an acknowledgement before the specified time and date, it would be deemed to have been forwarded and to have reached within the time prescribed provided the Secretary was satisfied that the nomination had been duly forwarded by the registered post at least 48 hours before the specified time and date.\\n[926G 927A]\",\n          \"An executing court cannot go behind a decree so as to vary its terms and when the obligations it imposes on the parties are reciprocal and inseverable, rendering partial execution impossible, the decree must be executed wholly as it stands or not at all.\\nThis is particularly true of a decree for specific performance where the party who seeks execution must satisfy the executing court that he is in a position to perform the obligations which the decree imposes on him.\\nThat in cases where the identity or substance of what the decree directs a party to give to the other is in dispute, the executing court alone has the power to decide it under section 47 of the Code of Civil Procedure and under section 42 of the Code the powers of the court executing a decree on transfer are identical with those of the court which passed the decree.\\nThat although the remedy provided by O. XXI, r. 32(1) of the Code of Civil Procedure is available in execution of a decree for specific performance, it can be used only by a person entitled to execute the decree and if, by reason of his own incapacity to perform his part, he is precluded from seeking execution, 0.\\nXXI, r. 32(1), can have no application.\\nConsequently, in a case where, as in the present, the defendant sought to execute a decree for specific performance of a contract but was himself unable to perform one of the obligations the decree imposed on his party, namely, to transfer five annas share in a partnership firm, for the reason that the firm had ceased to exist by dissolution before the date of execution, he was not entitled to execute the decree.\\nHeld further, that the defendant could not be allowed to substitute five annas share in the assets of the dissolved firm instead, as that would amount to an alteration of the decree which the execution court was not competent to make.\"\n        ],\n        \"semantic_type\": \"\",\n        \"description\": \"\"\n      }\n    }\n  ]\n}"
            }
          },
          "metadata": {},
          "execution_count": 10
        }
      ]
    },
    {
      "cell_type": "markdown",
      "source": [
        "For the sake of this notebook, we will reduce the training and validation data to a dummy dataset of sizes 1000 and 100 respectively. For a full training run, those lines should be commented out."
      ],
      "metadata": {
        "id": "Gc3suKO2qyoB"
      }
    },
    {
      "cell_type": "code",
      "source": [
        "# Convert the DataFrames to datasets\n",
        "train_dataset = Dataset.from_pandas(train_df.head(500))\n",
        "test_dataset = Dataset.from_pandas(test_df.head(80))\n",
        "\n",
        "# Apply the custom function to the datasets\n",
        "train_dataset = train_dataset.map(\n",
        "    process_data_to_model_inputs,\n",
        "    batched=True,\n",
        "    batch_size=batch_size,\n",
        "    remove_columns=['Judgement', 'Summary'],\n",
        ")\n",
        "\n",
        "test_dataset = test_dataset.map(\n",
        "    process_data_to_model_inputs,\n",
        "    batched=True,\n",
        "    batch_size=batch_size,\n",
        "    remove_columns=['Judgement', 'Summary'],\n",
        ")"
      ],
      "metadata": {
        "colab": {
          "base_uri": "https://localhost:8080/",
          "height": 81,
          "referenced_widgets": [
            "bcad6d12afbc4d23842a9363c188e83b",
            "3b13ab33f14b4dcca43114385a01eddd",
            "5cc0fdbdf4e943498081d3a7c6c550b3",
            "25e456b595fa456b8d3282e4f3666b73",
            "33c3c71c91cd4d86909bb0f21743fd12",
            "7cf455992ed748c399938507eb732bf2",
            "b52664591f154096ae5cb5acb192a746",
            "aebac3a8a1614a32982b86eda727b365",
            "68595516b10c45c6b75586f1766c60ff",
            "fda3653cc4bc4b43b16fc708b14f97de",
            "d14f375fb89741808a2e307d65c67b56",
            "dbd49c40c4874f2d8ecf3e4d2730dee3",
            "b5a072196096414ca9961b0ff8569da9",
            "ad495b08b86f4f0aa065d6be6efc90c2",
            "87f9195fce914ec7bc194bc59500eb22",
            "5f699d5291834cda9c89bc76cde85631",
            "165f437cd08a4f1eb45fc9422654d313",
            "9aab05bc4181413b86ebd8738ef30ff5",
            "3680acd37a5c4b0e8171c46bf2a3033f",
            "f942b7dba1bb48c49d562f668a6f9f37",
            "030333706467410ea48cbce77708c27f",
            "1aa404633b874364a5236693ad2d17b4"
          ]
        },
        "id": "vlGOnIT_V0Jf",
        "outputId": "b9974034-2c50-4abf-8f1b-b82e62c6ca65"
      },
      "execution_count": 11,
      "outputs": [
        {
          "output_type": "display_data",
          "data": {
            "text/plain": [
              "Map:   0%|          | 0/500 [00:00<?, ? examples/s]"
            ],
            "application/vnd.jupyter.widget-view+json": {
              "version_major": 2,
              "version_minor": 0,
              "model_id": "bcad6d12afbc4d23842a9363c188e83b"
            }
          },
          "metadata": {}
        },
        {
          "output_type": "display_data",
          "data": {
            "text/plain": [
              "Map:   0%|          | 0/80 [00:00<?, ? examples/s]"
            ],
            "application/vnd.jupyter.widget-view+json": {
              "version_major": 2,
              "version_minor": 0,
              "model_id": "dbd49c40c4874f2d8ecf3e4d2730dee3"
            }
          },
          "metadata": {}
        }
      ]
    },
    {
      "cell_type": "code",
      "source": [
        "train_dataset.set_format(\n",
        "    type=\"torch\",\n",
        "    columns=[\"input_ids\", \"attention_mask\", \"global_attention_mask\", \"labels\"],\n",
        ")\n",
        "test_dataset.set_format(\n",
        "    type=\"torch\",\n",
        "    columns=[\"input_ids\", \"attention_mask\", \"global_attention_mask\", \"labels\"],\n",
        ")"
      ],
      "metadata": {
        "id": "pmb0k2X5eZRo"
      },
      "execution_count": 12,
      "outputs": []
    },
    {
      "cell_type": "code",
      "source": [
        "led.config.num_beams = 2\n",
        "led.config.max_length = 512\n",
        "led.config.min_length = 100\n",
        "led.config.length_penalty = 2.0\n",
        "led.config.early_stopping = True\n",
        "led.config.no_repeat_ngram_size = 3"
      ],
      "metadata": {
        "id": "JDzluGW6ed6O"
      },
      "execution_count": 13,
      "outputs": []
    },
    {
      "cell_type": "code",
      "source": [
        "def compute_metrics(pred):\n",
        "    labels_ids = pred.label_ids\n",
        "    pred_ids = pred.predictions\n",
        "\n",
        "    pred_str = tokenizer.batch_decode(pred_ids, skip_special_tokens=True)\n",
        "    labels_ids[labels_ids == -100] = tokenizer.pad_token_id\n",
        "    label_str = tokenizer.batch_decode(labels_ids, skip_special_tokens=True)\n",
        "\n",
        "    rouge_output = rouge.compute(\n",
        "        predictions=pred_str, references=label_str, rouge_types=[\"rouge2\"]\n",
        "    )[\"rouge2\"].mid\n",
        "\n",
        "    return {\n",
        "        \"rouge2_precision\": round(rouge_output.precision, 4),\n",
        "        \"rouge2_recall\": round(rouge_output.recall, 4),\n",
        "        \"rouge2_fmeasure\": round(rouge_output.fmeasure, 4),\n",
        "    }"
      ],
      "metadata": {
        "id": "sKTASrcoegVt"
      },
      "execution_count": 14,
      "outputs": []
    },
    {
      "cell_type": "code",
      "source": [
        "# Initialize the accelerator\n",
        "accelerator = Accelerator()\n",
        "\n",
        "\n",
        "training_args = Seq2SeqTrainingArguments(\n",
        "    predict_with_generate=True,\n",
        "    evaluation_strategy=\"steps\",\n",
        "    per_device_train_batch_size=batch_size,\n",
        "    per_device_eval_batch_size=batch_size,\n",
        "    fp16=False,  # Disable FP16\n",
        "    output_dir=\"./\",\n",
        "    logging_steps=5,\n",
        "    eval_steps=10,\n",
        "    save_steps=10,\n",
        "    save_total_limit=2,\n",
        "    gradient_accumulation_steps=4,\n",
        "    num_train_epochs=1,\n",
        "    report_to=\"wandb\",\n",
        ")\n"
      ],
      "metadata": {
        "id": "DfJeJLWhejo1"
      },
      "execution_count": 15,
      "outputs": []
    },
    {
      "cell_type": "code",
      "source": [
        "trainer = Seq2SeqTrainer(\n",
        "            model=led,\n",
        "            tokenizer=tokenizer,\n",
        "            args=training_args,\n",
        "            compute_metrics=compute_metrics,\n",
        "            train_dataset=train_dataset,\n",
        "            eval_dataset=test_dataset,\n",
        ")"
      ],
      "metadata": {
        "colab": {
          "base_uri": "https://localhost:8080/"
        },
        "id": "10JlDHsthWXu",
        "outputId": "2311a893-cfe8-47fb-85c0-bc60ab004641"
      },
      "execution_count": 16,
      "outputs": [
        {
          "output_type": "stream",
          "name": "stderr",
          "text": [
            "/usr/local/lib/python3.10/dist-packages/accelerate/accelerator.py:432: FutureWarning: Passing the following arguments to `Accelerator` is deprecated and will be removed in version 1.0 of Accelerate: dict_keys(['dispatch_batches', 'split_batches', 'even_batches', 'use_seedable_sampler']). Please pass an `accelerate.DataLoaderConfiguration` instead: \n",
            "dataloader_config = DataLoaderConfiguration(dispatch_batches=None, split_batches=False, even_batches=True, use_seedable_sampler=True)\n",
            "  warnings.warn(\n"
          ]
        }
      ]
    },
    {
      "cell_type": "code",
      "source": [
        "# Train the model\n",
        "trainer.train()"
      ],
      "metadata": {
        "colab": {
          "base_uri": "https://localhost:8080/",
          "height": 158
        },
        "id": "jGyyEi9EhP7Y",
        "outputId": "083a2fd0-62c1-49f8-ffed-db725b9c8bc0"
      },
      "execution_count": null,
      "outputs": [
        {
          "output_type": "stream",
          "name": "stderr",
          "text": [
            "\u001b[34m\u001b[1mwandb\u001b[0m: Currently logged in as: \u001b[33msbbm-03\u001b[0m (\u001b[33mlily21\u001b[0m). Use \u001b[1m`wandb login --relogin`\u001b[0m to force relogin\n"
          ]
        },
        {
          "output_type": "display_data",
          "data": {
            "text/plain": [
              "<IPython.core.display.HTML object>"
            ],
            "text/html": [
              "Tracking run with wandb version 0.16.5"
            ]
          },
          "metadata": {}
        },
        {
          "output_type": "display_data",
          "data": {
            "text/plain": [
              "<IPython.core.display.HTML object>"
            ],
            "text/html": [
              "Run data is saved locally in <code>/content/wandb/run-20240331_140437-1dz7fkis</code>"
            ]
          },
          "metadata": {}
        },
        {
          "output_type": "display_data",
          "data": {
            "text/plain": [
              "<IPython.core.display.HTML object>"
            ],
            "text/html": [
              "Syncing run <strong><a href='https://wandb.ai/lily21/huggingface/runs/1dz7fkis/workspace' target=\"_blank\">comic-snow-3</a></strong> to <a href='https://wandb.ai/lily21/huggingface' target=\"_blank\">Weights & Biases</a> (<a href='https://wandb.me/run' target=\"_blank\">docs</a>)<br/>"
            ]
          },
          "metadata": {}
        },
        {
          "output_type": "display_data",
          "data": {
            "text/plain": [
              "<IPython.core.display.HTML object>"
            ],
            "text/html": [
              " View project at <a href='https://wandb.ai/lily21/huggingface' target=\"_blank\">https://wandb.ai/lily21/huggingface</a>"
            ]
          },
          "metadata": {}
        },
        {
          "output_type": "display_data",
          "data": {
            "text/plain": [
              "<IPython.core.display.HTML object>"
            ],
            "text/html": [
              " View run at <a href='https://wandb.ai/lily21/huggingface/runs/1dz7fkis/workspace' target=\"_blank\">https://wandb.ai/lily21/huggingface/runs/1dz7fkis/workspace</a>"
            ]
          },
          "metadata": {}
        },
        {
          "output_type": "stream",
          "name": "stderr",
          "text": [
            "Input ids are automatically padded from 7120 to 7168 to be a multiple of `config.attention_window`: 1024\n"
          ]
        }
      ]
    },
    {
      "cell_type": "code",
      "source": [],
      "metadata": {
        "id": "5ko9MhJWhQyT"
      },
      "execution_count": null,
      "outputs": []
    }
  ]
}